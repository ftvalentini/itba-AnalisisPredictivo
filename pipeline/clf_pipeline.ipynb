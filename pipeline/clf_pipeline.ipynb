{
 "cells": [
  {
   "cell_type": "code",
   "execution_count": 3,
   "metadata": {},
   "outputs": [],
   "source": [
    "import pickle\n",
    "from tempfile import mkdtemp\n",
    "from shutil import rmtree\n",
    "\n",
    "import numpy as np\n",
    "import pandas as pd\n",
    "import matplotlib.pyplot as plt\n",
    "from tqdm import tqdm\n",
    "from sklearn import set_config\n",
    "from sklearn.base import clone\n",
    "from sklearn.model_selection import train_test_split, ParameterGrid\n",
    "from sklearn.pipeline import Pipeline\n",
    "from sklearn.ensemble import RandomForestClassifier\n",
    "from sklearn.linear_model import LogisticRegression\n",
    "from sklearn.metrics import roc_auc_score\n",
    "from feature_engine.preprocessing import MatchVariables\n",
    "from feature_engine.encoding import RareLabelEncoder, OrdinalEncoder, OneHotEncoder\n",
    "from feature_engine.imputation import (\n",
    "    AddMissingIndicator, MeanMedianImputer, CategoricalImputer, EndTailImputer\n",
    ")\n",
    "from feature_engine.transformation import PowerTransformer\n",
    "from feature_engine.creation import RelativeFeatures\n",
    "from feature_engine.selection import DropFeatures"
   ]
  },
  {
   "cell_type": "code",
   "execution_count": 4,
   "metadata": {},
   "outputs": [],
   "source": [
    "%load_ext watermark"
   ]
  },
  {
   "cell_type": "code",
   "execution_count": 5,
   "metadata": {},
   "outputs": [
    {
     "name": "stdout",
     "output_type": "stream",
     "text": [
      "Python implementation: CPython\n",
      "Python version       : 3.9.13\n",
      "IPython version      : 8.8.0\n",
      "\n",
      "numpy         : 1.23.3\n",
      "pandas        : 1.5.0\n",
      "sklearn       : 1.2.2\n",
      "feature_engine: 1.6.0\n",
      "\n"
     ]
    }
   ],
   "source": [
    "%watermark -vp numpy,pandas,sklearn,feature_engine"
   ]
  },
  {
   "attachments": {},
   "cell_type": "markdown",
   "metadata": {},
   "source": [
    "## Data\n",
    "\n",
    "Con un muy pequeño EDA."
   ]
  },
  {
   "cell_type": "code",
   "execution_count": 6,
   "metadata": {},
   "outputs": [],
   "source": [
    "df = pd.read_csv(\"data.csv\")"
   ]
  },
  {
   "cell_type": "code",
   "execution_count": 7,
   "metadata": {},
   "outputs": [
    {
     "data": {
      "text/plain": [
       "(710, 21)"
      ]
     },
     "execution_count": 7,
     "metadata": {},
     "output_type": "execute_result"
    }
   ],
   "source": [
    "df.shape"
   ]
  },
  {
   "cell_type": "code",
   "execution_count": 8,
   "metadata": {},
   "outputs": [
    {
     "data": {
      "text/html": [
       "<div>\n",
       "<style scoped>\n",
       "    .dataframe tbody tr th:only-of-type {\n",
       "        vertical-align: middle;\n",
       "    }\n",
       "\n",
       "    .dataframe tbody tr th {\n",
       "        vertical-align: top;\n",
       "    }\n",
       "\n",
       "    .dataframe thead th {\n",
       "        text-align: right;\n",
       "    }\n",
       "</style>\n",
       "<table border=\"1\" class=\"dataframe\">\n",
       "  <thead>\n",
       "    <tr style=\"text-align: right;\">\n",
       "      <th></th>\n",
       "      <th>target</th>\n",
       "      <th>v1</th>\n",
       "      <th>v2</th>\n",
       "      <th>v3</th>\n",
       "      <th>v4</th>\n",
       "      <th>v5</th>\n",
       "      <th>v6</th>\n",
       "      <th>v7</th>\n",
       "      <th>v8</th>\n",
       "      <th>v9</th>\n",
       "      <th>...</th>\n",
       "      <th>v11</th>\n",
       "      <th>v12</th>\n",
       "      <th>v13</th>\n",
       "      <th>v14</th>\n",
       "      <th>v15</th>\n",
       "      <th>v16</th>\n",
       "      <th>v17</th>\n",
       "      <th>v18</th>\n",
       "      <th>v19</th>\n",
       "      <th>v20</th>\n",
       "    </tr>\n",
       "  </thead>\n",
       "  <tbody>\n",
       "    <tr>\n",
       "      <th>133</th>\n",
       "      <td>1</td>\n",
       "      <td>C</td>\n",
       "      <td>0.687106</td>\n",
       "      <td>8.718000</td>\n",
       "      <td>0.185937</td>\n",
       "      <td>-1.649724</td>\n",
       "      <td>0.246020</td>\n",
       "      <td>2.909382</td>\n",
       "      <td>-0.899704</td>\n",
       "      <td>67.948700</td>\n",
       "      <td>...</td>\n",
       "      <td>15.107987</td>\n",
       "      <td>C</td>\n",
       "      <td>1</td>\n",
       "      <td>C</td>\n",
       "      <td>0.869942</td>\n",
       "      <td>1.517348</td>\n",
       "      <td>B</td>\n",
       "      <td>C</td>\n",
       "      <td>132.305326</td>\n",
       "      <td>0.823741</td>\n",
       "    </tr>\n",
       "    <tr>\n",
       "      <th>442</th>\n",
       "      <td>0</td>\n",
       "      <td>C</td>\n",
       "      <td>0.274747</td>\n",
       "      <td>51.393918</td>\n",
       "      <td>0.556724</td>\n",
       "      <td>-0.314203</td>\n",
       "      <td>0.201684</td>\n",
       "      <td>3.257982</td>\n",
       "      <td>-0.025857</td>\n",
       "      <td>33.028785</td>\n",
       "      <td>...</td>\n",
       "      <td>13.317265</td>\n",
       "      <td>D</td>\n",
       "      <td>0</td>\n",
       "      <td>B</td>\n",
       "      <td>0.012216</td>\n",
       "      <td>0.405815</td>\n",
       "      <td>C</td>\n",
       "      <td>A</td>\n",
       "      <td>16.433537</td>\n",
       "      <td>0.263306</td>\n",
       "    </tr>\n",
       "  </tbody>\n",
       "</table>\n",
       "<p>2 rows × 21 columns</p>\n",
       "</div>"
      ],
      "text/plain": [
       "     target v1        v2         v3        v4        v5        v6        v7  \\\n",
       "133       1  C  0.687106   8.718000  0.185937 -1.649724  0.246020  2.909382   \n",
       "442       0  C  0.274747  51.393918  0.556724 -0.314203  0.201684  3.257982   \n",
       "\n",
       "           v8         v9  ...        v11  v12 v13  v14       v15       v16  \\\n",
       "133 -0.899704  67.948700  ...  15.107987    C   1    C  0.869942  1.517348   \n",
       "442 -0.025857  33.028785  ...  13.317265    D   0    B  0.012216  0.405815   \n",
       "\n",
       "     v17 v18         v19       v20  \n",
       "133    B   C  132.305326  0.823741  \n",
       "442    C   A   16.433537  0.263306  \n",
       "\n",
       "[2 rows x 21 columns]"
      ]
     },
     "execution_count": 8,
     "metadata": {},
     "output_type": "execute_result"
    }
   ],
   "source": [
    "df.sample(2)"
   ]
  },
  {
   "cell_type": "code",
   "execution_count": 9,
   "metadata": {},
   "outputs": [
    {
     "data": {
      "text/plain": [
       "0    0.8\n",
       "1    0.2\n",
       "Name: target, dtype: float64"
      ]
     },
     "execution_count": 9,
     "metadata": {},
     "output_type": "execute_result"
    }
   ],
   "source": [
    "df[\"target\"].value_counts(normalize=True)"
   ]
  },
  {
   "cell_type": "code",
   "execution_count": 10,
   "metadata": {},
   "outputs": [
    {
     "name": "stdout",
     "output_type": "stream",
     "text": [
      "<class 'pandas.core.frame.DataFrame'>\n",
      "RangeIndex: 710 entries, 0 to 709\n",
      "Data columns (total 21 columns):\n",
      " #   Column  Non-Null Count  Dtype  \n",
      "---  ------  --------------  -----  \n",
      " 0   target  710 non-null    int64  \n",
      " 1   v1      710 non-null    object \n",
      " 2   v2      710 non-null    float64\n",
      " 3   v3      710 non-null    float64\n",
      " 4   v4      710 non-null    float64\n",
      " 5   v5      710 non-null    float64\n",
      " 6   v6      710 non-null    float64\n",
      " 7   v7      710 non-null    float64\n",
      " 8   v8      710 non-null    float64\n",
      " 9   v9      710 non-null    float64\n",
      " 10  v10     680 non-null    float64\n",
      " 11  v11     710 non-null    float64\n",
      " 12  v12     710 non-null    object \n",
      " 13  v13     710 non-null    int64  \n",
      " 14  v14     710 non-null    object \n",
      " 15  v15     710 non-null    float64\n",
      " 16  v16     710 non-null    float64\n",
      " 17  v17     630 non-null    object \n",
      " 18  v18     668 non-null    object \n",
      " 19  v19     686 non-null    float64\n",
      " 20  v20     710 non-null    float64\n",
      "dtypes: float64(14), int64(2), object(5)\n",
      "memory usage: 116.6+ KB\n",
      "None\n"
     ]
    }
   ],
   "source": [
    "print(df.info())"
   ]
  },
  {
   "attachments": {},
   "cell_type": "markdown",
   "metadata": {},
   "source": [
    "¿Hay missing values?\n",
    "\n",
    "¿Qué pinta tienen las categóricas?"
   ]
  },
  {
   "cell_type": "code",
   "execution_count": 11,
   "metadata": {},
   "outputs": [
    {
     "name": "stdout",
     "output_type": "stream",
     "text": [
      "v1\n",
      "D    0.273239\n",
      "A    0.269014\n",
      "B    0.230986\n",
      "C    0.226761\n",
      "Name: v1, dtype: float64 \n",
      "\n",
      "v12\n",
      "B    0.440845\n",
      "D    0.214085\n",
      "C    0.191549\n",
      "A    0.153521\n",
      "Name: v12, dtype: float64 \n",
      "\n",
      "v14\n",
      "C    0.622535\n",
      "B    0.201408\n",
      "A    0.116901\n",
      "D    0.059155\n",
      "Name: v14, dtype: float64 \n",
      "\n",
      "v17\n",
      "A      0.495775\n",
      "C      0.195775\n",
      "B      0.195775\n",
      "NaN    0.112676\n",
      "Name: v17, dtype: float64 \n",
      "\n",
      "v18\n",
      "C      0.467606\n",
      "B      0.215493\n",
      "A      0.178873\n",
      "D      0.078873\n",
      "NaN    0.059155\n",
      "Name: v18, dtype: float64 \n",
      "\n"
     ]
    }
   ],
   "source": [
    "categorical_columns_ = [c for c in df.columns if df[c].dtype == 'O']\n",
    "for c in categorical_columns_:\n",
    "    print(c)\n",
    "    print(df[c].value_counts(normalize=True, dropna=False), \"\\n\")"
   ]
  },
  {
   "cell_type": "code",
   "execution_count": 12,
   "metadata": {},
   "outputs": [
    {
     "data": {
      "text/plain": [
       "v14\n",
       "A    0.156627\n",
       "B    0.223776\n",
       "C    0.196833\n",
       "D    0.238095\n",
       "Name: target, dtype: float64"
      ]
     },
     "execution_count": 12,
     "metadata": {},
     "output_type": "execute_result"
    }
   ],
   "source": [
    "df.groupby(\"v14\")[\"target\"].mean()"
   ]
  },
  {
   "attachments": {},
   "cell_type": "markdown",
   "metadata": {},
   "source": [
    "### Split data\n",
    "\n",
    "Separamos un set de test y lo descartamos durante el análisis."
   ]
  },
  {
   "cell_type": "code",
   "execution_count": 13,
   "metadata": {},
   "outputs": [],
   "source": [
    "df_train, df_test = train_test_split(df, test_size=0.2, random_state=33)"
   ]
  },
  {
   "cell_type": "code",
   "execution_count": 14,
   "metadata": {},
   "outputs": [],
   "source": [
    "df_test.to_csv(\"data_test.csv\", index=True)\n",
    "del df_test"
   ]
  },
  {
   "cell_type": "code",
   "execution_count": 15,
   "metadata": {},
   "outputs": [],
   "source": [
    "X = df_train.drop([\"target\"], axis=1)\n",
    "y = df_train[\"target\"]"
   ]
  },
  {
   "cell_type": "code",
   "execution_count": 16,
   "metadata": {},
   "outputs": [],
   "source": [
    "categorical_columns = [c for c in X.columns if X[c].dtype == 'O']\n",
    "\n",
    "discrete_columns = []\n",
    "# discrete = [\n",
    "#     c for c in X.columns if df[c].dtype != 'O' and len(X[c].unique()) < 20]\n",
    "\n",
    "numerical_columns = [\n",
    "    c for c in X.columns if X[c].dtype != 'O' and c not in discrete_columns]\n",
    "# date_columns = ..."
   ]
  },
  {
   "cell_type": "code",
   "execution_count": 17,
   "metadata": {},
   "outputs": [
    {
     "name": "stdout",
     "output_type": "stream",
     "text": [
      "['v1', 'v12', 'v14', 'v17', 'v18']\n",
      "[]\n",
      "['v2', 'v3', 'v4', 'v5', 'v6', 'v7', 'v8', 'v9', 'v10', 'v11', 'v13', 'v15', 'v16', 'v19', 'v20']\n"
     ]
    }
   ],
   "source": [
    "print(categorical_columns)\n",
    "print(discrete_columns)\n",
    "print(numerical_columns)"
   ]
  },
  {
   "attachments": {},
   "cell_type": "markdown",
   "metadata": {},
   "source": [
    "## Pipeline\n",
    "\n",
    "La ventaja de [`feature-engine`](https://feature-engine.readthedocs.io/en/latest/user_guide/index.html) es que nos permite aplicar las transformaciones a columnas específicas con más facilidad que `sklearn`. Además ofrece algunas transformaciones que no están disponibles en `sklearn`."
   ]
  },
  {
   "cell_type": "code",
   "execution_count": 30,
   "metadata": {},
   "outputs": [],
   "source": [
    "# NOTE se puede hacer mas prolijo encadenando pipelines!\n",
    "\n",
    "pipe = Pipeline([\n",
    "\n",
    "    # Missing values -----------------------------------------------------------\n",
    "    ('cat_imputer', CategoricalImputer(\n",
    "        fill_value=\"Missing\", return_object=True, variables=categorical_columns)),\n",
    "    ('num_missing_ind', AddMissingIndicator(missing_only=True, variables=numerical_columns)),\n",
    "    ('num_imputer', EndTailImputer(\n",
    "        imputation_method='iqr', tail='right', fold=3, variables=numerical_columns)),\n",
    "\n",
    "    # Categorical encoding -----------------------------------------------------\n",
    "    ('cat_rare_labels', RareLabelEncoder(\n",
    "        tol=50 / X.shape[0], n_categories=1, replace_with=\"Rare\", variables=categorical_columns)),\n",
    "    ('cat_encoder', OrdinalEncoder(\n",
    "        encoding_method='ordered', unseen=\"raise\", variables=categorical_columns)),\n",
    "\n",
    "    # Transformations ----------------------------------------------------------\n",
    "    ('interactions', RelativeFeatures(\n",
    "        variables=[\"v1\", \"v2\", \"v7\"], reference=[\"v10\", \"v11\"], func=[\"mul\"])),\n",
    "    ('polynomial', PowerTransformer(exp=2, variables=[\"v3\", \"v4\", ])),\n",
    "    # NOTE ver sklearn.preprocessing.PolynomialFeatures\n",
    "\n",
    "    # Classifier ---------------------------------------------------------------\n",
    "    ('clf', RandomForestClassifier(\n",
    "        n_estimators=250, min_samples_leaf=5, max_features=\"sqrt\", \n",
    "        oob_score=True, n_jobs=3, random_state=33))\n",
    "])\n",
    "\n",
    "# NOTE si vamos a usar GridSearchCV, podemos usar memory caching:\n",
    "# cachedir = mkdtemp()\n",
    "# pipe = Pipeline(steps, memory=cachedir)\n",
    "# gcv.fit(X, y)\n",
    "# rmtree(cachedir)"
   ]
  },
  {
   "attachments": {},
   "cell_type": "markdown",
   "metadata": {},
   "source": [
    "Una posibilidad es dejar las transformaciones sobre las que no queremos hacer pruebas y/o que no dependen de los datos antes del pipeline (y dejar en el pipeline solo las transformaciones que dependen de los datos y/o queremos validar)."
   ]
  },
  {
   "cell_type": "code",
   "execution_count": 31,
   "metadata": {},
   "outputs": [],
   "source": [
    "# # una corrida sin grid search ni cross-validation:\n",
    "# _ = pipe.fit(X_train, y_train)\n",
    "# y_pred = pipe.predict(X_val)"
   ]
  },
  {
   "cell_type": "code",
   "execution_count": 32,
   "metadata": {},
   "outputs": [],
   "source": [
    "# # viz html\n",
    "# set_config(display=\"diagram\")\n",
    "# pipe"
   ]
  },
  {
   "cell_type": "code",
   "execution_count": 33,
   "metadata": {},
   "outputs": [],
   "source": [
    "set_config(display=\"text\")"
   ]
  },
  {
   "attachments": {},
   "cell_type": "markdown",
   "metadata": {},
   "source": [
    "### Random search\n",
    "\n",
    "Hacemos una búsqueda sobre distintas configuraciones del pipeline. Los parámetros que elegimos y sus valores son solamente ilustrativos."
   ]
  },
  {
   "cell_type": "code",
   "execution_count": 34,
   "metadata": {},
   "outputs": [],
   "source": [
    "param_grid = [\n",
    "    {\n",
    "        'cat_rare_labels__tol': [i/X.shape[0] for i in [20, 50, 100]], #  NOTE tol exige fraccion\n",
    "        'clf__min_samples_leaf': [5, 10, 20, 50, 100],\n",
    "    },\n",
    "    # baseline model:\n",
    "    {\n",
    "        'num_missing_ind': [\"passthrough\"],\n",
    "        'num_imputer': [MeanMedianImputer(imputation_method='median', variables=numerical_columns)],\n",
    "        'cat_encoder': [OneHotEncoder(variables=categorical_columns)],\n",
    "        'interactions': [\"passthrough\"],\n",
    "        'polynomial': [\"passthrough\"],\n",
    "        # 'clf': [LogisticRegression(max_iter=1000)], # NOTE: no lo probamos porque estamos scoreando con OOB\n",
    "    },\n",
    "]\n"
   ]
  },
  {
   "cell_type": "code",
   "execution_count": 37,
   "metadata": {},
   "outputs": [
    {
     "name": "stdout",
     "output_type": "stream",
     "text": [
      "Search: 16 iterations\n"
     ]
    }
   ],
   "source": [
    "grid = ParameterGrid(param_grid)\n",
    "n_configs = len(grid)\n",
    "max_n_iter = 200\n",
    "n_iter = max_n_iter if n_configs > max_n_iter else n_configs\n",
    "search_indices = np.random.choice(range(n_configs), size=n_iter, replace=False)\n",
    "\n",
    "print(f\"Search: {n_iter} iterations\")"
   ]
  },
  {
   "cell_type": "code",
   "execution_count": 38,
   "metadata": {},
   "outputs": [
    {
     "name": "stderr",
     "output_type": "stream",
     "text": [
      "100%|██████████| 16/16 [00:15<00:00,  1.04it/s]\n"
     ]
    }
   ],
   "source": [
    "# NOTE hay que hacer esto porque sklearn.model_selection.GridSearchCV no se banca OOB!\n",
    "\n",
    "results = []\n",
    "for i_config in tqdm(search_indices):\n",
    "    params = grid[i_config]\n",
    "    pipe_ = clone(pipe) # NOTE para no ir pisando pipe original\n",
    "    _ = pipe_.set_params(**params)\n",
    "    _ = pipe_.fit(X, y)\n",
    "    # NOTE only way to get oob predictions:\n",
    "    y_pred = pipe_.named_steps['clf'].oob_decision_function_[:, 1] \n",
    "    auroc = roc_auc_score(y, y_pred)\n",
    "    results.append({'params': params, 'auroc': auroc})"
   ]
  },
  {
   "cell_type": "code",
   "execution_count": 39,
   "metadata": {},
   "outputs": [],
   "source": [
    "df_results = pd.DataFrame(results)\n",
    "df_results = pd.concat(\n",
    "    [df_results, pd.json_normalize(df_results['params'])], axis=1)"
   ]
  },
  {
   "cell_type": "code",
   "execution_count": 40,
   "metadata": {},
   "outputs": [
    {
     "data": {
      "text/html": [
       "<div>\n",
       "<style scoped>\n",
       "    .dataframe tbody tr th:only-of-type {\n",
       "        vertical-align: middle;\n",
       "    }\n",
       "\n",
       "    .dataframe tbody tr th {\n",
       "        vertical-align: top;\n",
       "    }\n",
       "\n",
       "    .dataframe thead th {\n",
       "        text-align: right;\n",
       "    }\n",
       "</style>\n",
       "<table border=\"1\" class=\"dataframe\">\n",
       "  <thead>\n",
       "    <tr style=\"text-align: right;\">\n",
       "      <th></th>\n",
       "      <th>params</th>\n",
       "      <th>auroc</th>\n",
       "      <th>clf__min_samples_leaf</th>\n",
       "      <th>cat_rare_labels__tol</th>\n",
       "      <th>polynomial</th>\n",
       "      <th>num_missing_ind</th>\n",
       "      <th>num_imputer</th>\n",
       "      <th>interactions</th>\n",
       "      <th>cat_encoder</th>\n",
       "    </tr>\n",
       "  </thead>\n",
       "  <tbody>\n",
       "    <tr>\n",
       "      <th>7</th>\n",
       "      <td>{'clf__min_samples_leaf': 5, 'cat_rare_labels_...</td>\n",
       "      <td>0.968828</td>\n",
       "      <td>5.0</td>\n",
       "      <td>0.176056</td>\n",
       "      <td>NaN</td>\n",
       "      <td>NaN</td>\n",
       "      <td>NaN</td>\n",
       "      <td>NaN</td>\n",
       "      <td>NaN</td>\n",
       "    </tr>\n",
       "    <tr>\n",
       "      <th>9</th>\n",
       "      <td>{'clf__min_samples_leaf': 5, 'cat_rare_labels_...</td>\n",
       "      <td>0.968292</td>\n",
       "      <td>5.0</td>\n",
       "      <td>0.088028</td>\n",
       "      <td>NaN</td>\n",
       "      <td>NaN</td>\n",
       "      <td>NaN</td>\n",
       "      <td>NaN</td>\n",
       "      <td>NaN</td>\n",
       "    </tr>\n",
       "    <tr>\n",
       "      <th>15</th>\n",
       "      <td>{'clf__min_samples_leaf': 5, 'cat_rare_labels_...</td>\n",
       "      <td>0.967848</td>\n",
       "      <td>5.0</td>\n",
       "      <td>0.035211</td>\n",
       "      <td>NaN</td>\n",
       "      <td>NaN</td>\n",
       "      <td>NaN</td>\n",
       "      <td>NaN</td>\n",
       "      <td>NaN</td>\n",
       "    </tr>\n",
       "    <tr>\n",
       "      <th>8</th>\n",
       "      <td>{'polynomial': 'passthrough', 'num_missing_ind...</td>\n",
       "      <td>0.966535</td>\n",
       "      <td>NaN</td>\n",
       "      <td>NaN</td>\n",
       "      <td>passthrough</td>\n",
       "      <td>passthrough</td>\n",
       "      <td>MeanMedianImputer(variables=['v2', 'v3', 'v4',...</td>\n",
       "      <td>passthrough</td>\n",
       "      <td>OneHotEncoder(variables=['v1', 'v12', 'v14', '...</td>\n",
       "    </tr>\n",
       "    <tr>\n",
       "      <th>11</th>\n",
       "      <td>{'clf__min_samples_leaf': 10, 'cat_rare_labels...</td>\n",
       "      <td>0.960120</td>\n",
       "      <td>10.0</td>\n",
       "      <td>0.035211</td>\n",
       "      <td>NaN</td>\n",
       "      <td>NaN</td>\n",
       "      <td>NaN</td>\n",
       "      <td>NaN</td>\n",
       "      <td>NaN</td>\n",
       "    </tr>\n",
       "    <tr>\n",
       "      <th>6</th>\n",
       "      <td>{'clf__min_samples_leaf': 10, 'cat_rare_labels...</td>\n",
       "      <td>0.959140</td>\n",
       "      <td>10.0</td>\n",
       "      <td>0.088028</td>\n",
       "      <td>NaN</td>\n",
       "      <td>NaN</td>\n",
       "      <td>NaN</td>\n",
       "      <td>NaN</td>\n",
       "      <td>NaN</td>\n",
       "    </tr>\n",
       "    <tr>\n",
       "      <th>10</th>\n",
       "      <td>{'clf__min_samples_leaf': 10, 'cat_rare_labels...</td>\n",
       "      <td>0.959140</td>\n",
       "      <td>10.0</td>\n",
       "      <td>0.176056</td>\n",
       "      <td>NaN</td>\n",
       "      <td>NaN</td>\n",
       "      <td>NaN</td>\n",
       "      <td>NaN</td>\n",
       "      <td>NaN</td>\n",
       "    </tr>\n",
       "    <tr>\n",
       "      <th>13</th>\n",
       "      <td>{'clf__min_samples_leaf': 20, 'cat_rare_labels...</td>\n",
       "      <td>0.945310</td>\n",
       "      <td>20.0</td>\n",
       "      <td>0.088028</td>\n",
       "      <td>NaN</td>\n",
       "      <td>NaN</td>\n",
       "      <td>NaN</td>\n",
       "      <td>NaN</td>\n",
       "      <td>NaN</td>\n",
       "    </tr>\n",
       "    <tr>\n",
       "      <th>3</th>\n",
       "      <td>{'clf__min_samples_leaf': 20, 'cat_rare_labels...</td>\n",
       "      <td>0.945070</td>\n",
       "      <td>20.0</td>\n",
       "      <td>0.176056</td>\n",
       "      <td>NaN</td>\n",
       "      <td>NaN</td>\n",
       "      <td>NaN</td>\n",
       "      <td>NaN</td>\n",
       "      <td>NaN</td>\n",
       "    </tr>\n",
       "    <tr>\n",
       "      <th>12</th>\n",
       "      <td>{'clf__min_samples_leaf': 20, 'cat_rare_labels...</td>\n",
       "      <td>0.944367</td>\n",
       "      <td>20.0</td>\n",
       "      <td>0.035211</td>\n",
       "      <td>NaN</td>\n",
       "      <td>NaN</td>\n",
       "      <td>NaN</td>\n",
       "      <td>NaN</td>\n",
       "      <td>NaN</td>\n",
       "    </tr>\n",
       "    <tr>\n",
       "      <th>2</th>\n",
       "      <td>{'clf__min_samples_leaf': 50, 'cat_rare_labels...</td>\n",
       "      <td>0.934901</td>\n",
       "      <td>50.0</td>\n",
       "      <td>0.035211</td>\n",
       "      <td>NaN</td>\n",
       "      <td>NaN</td>\n",
       "      <td>NaN</td>\n",
       "      <td>NaN</td>\n",
       "      <td>NaN</td>\n",
       "    </tr>\n",
       "    <tr>\n",
       "      <th>4</th>\n",
       "      <td>{'clf__min_samples_leaf': 50, 'cat_rare_labels...</td>\n",
       "      <td>0.933977</td>\n",
       "      <td>50.0</td>\n",
       "      <td>0.088028</td>\n",
       "      <td>NaN</td>\n",
       "      <td>NaN</td>\n",
       "      <td>NaN</td>\n",
       "      <td>NaN</td>\n",
       "      <td>NaN</td>\n",
       "    </tr>\n",
       "    <tr>\n",
       "      <th>1</th>\n",
       "      <td>{'clf__min_samples_leaf': 50, 'cat_rare_labels...</td>\n",
       "      <td>0.933644</td>\n",
       "      <td>50.0</td>\n",
       "      <td>0.176056</td>\n",
       "      <td>NaN</td>\n",
       "      <td>NaN</td>\n",
       "      <td>NaN</td>\n",
       "      <td>NaN</td>\n",
       "      <td>NaN</td>\n",
       "    </tr>\n",
       "    <tr>\n",
       "      <th>14</th>\n",
       "      <td>{'clf__min_samples_leaf': 100, 'cat_rare_label...</td>\n",
       "      <td>0.905079</td>\n",
       "      <td>100.0</td>\n",
       "      <td>0.035211</td>\n",
       "      <td>NaN</td>\n",
       "      <td>NaN</td>\n",
       "      <td>NaN</td>\n",
       "      <td>NaN</td>\n",
       "      <td>NaN</td>\n",
       "    </tr>\n",
       "    <tr>\n",
       "      <th>5</th>\n",
       "      <td>{'clf__min_samples_leaf': 100, 'cat_rare_label...</td>\n",
       "      <td>0.904783</td>\n",
       "      <td>100.0</td>\n",
       "      <td>0.088028</td>\n",
       "      <td>NaN</td>\n",
       "      <td>NaN</td>\n",
       "      <td>NaN</td>\n",
       "      <td>NaN</td>\n",
       "      <td>NaN</td>\n",
       "    </tr>\n",
       "    <tr>\n",
       "      <th>0</th>\n",
       "      <td>{'clf__min_samples_leaf': 100, 'cat_rare_label...</td>\n",
       "      <td>0.903489</td>\n",
       "      <td>100.0</td>\n",
       "      <td>0.176056</td>\n",
       "      <td>NaN</td>\n",
       "      <td>NaN</td>\n",
       "      <td>NaN</td>\n",
       "      <td>NaN</td>\n",
       "      <td>NaN</td>\n",
       "    </tr>\n",
       "  </tbody>\n",
       "</table>\n",
       "</div>"
      ],
      "text/plain": [
       "                                               params     auroc  \\\n",
       "7   {'clf__min_samples_leaf': 5, 'cat_rare_labels_...  0.968828   \n",
       "9   {'clf__min_samples_leaf': 5, 'cat_rare_labels_...  0.968292   \n",
       "15  {'clf__min_samples_leaf': 5, 'cat_rare_labels_...  0.967848   \n",
       "8   {'polynomial': 'passthrough', 'num_missing_ind...  0.966535   \n",
       "11  {'clf__min_samples_leaf': 10, 'cat_rare_labels...  0.960120   \n",
       "6   {'clf__min_samples_leaf': 10, 'cat_rare_labels...  0.959140   \n",
       "10  {'clf__min_samples_leaf': 10, 'cat_rare_labels...  0.959140   \n",
       "13  {'clf__min_samples_leaf': 20, 'cat_rare_labels...  0.945310   \n",
       "3   {'clf__min_samples_leaf': 20, 'cat_rare_labels...  0.945070   \n",
       "12  {'clf__min_samples_leaf': 20, 'cat_rare_labels...  0.944367   \n",
       "2   {'clf__min_samples_leaf': 50, 'cat_rare_labels...  0.934901   \n",
       "4   {'clf__min_samples_leaf': 50, 'cat_rare_labels...  0.933977   \n",
       "1   {'clf__min_samples_leaf': 50, 'cat_rare_labels...  0.933644   \n",
       "14  {'clf__min_samples_leaf': 100, 'cat_rare_label...  0.905079   \n",
       "5   {'clf__min_samples_leaf': 100, 'cat_rare_label...  0.904783   \n",
       "0   {'clf__min_samples_leaf': 100, 'cat_rare_label...  0.903489   \n",
       "\n",
       "    clf__min_samples_leaf  cat_rare_labels__tol   polynomial num_missing_ind  \\\n",
       "7                     5.0              0.176056          NaN             NaN   \n",
       "9                     5.0              0.088028          NaN             NaN   \n",
       "15                    5.0              0.035211          NaN             NaN   \n",
       "8                     NaN                   NaN  passthrough     passthrough   \n",
       "11                   10.0              0.035211          NaN             NaN   \n",
       "6                    10.0              0.088028          NaN             NaN   \n",
       "10                   10.0              0.176056          NaN             NaN   \n",
       "13                   20.0              0.088028          NaN             NaN   \n",
       "3                    20.0              0.176056          NaN             NaN   \n",
       "12                   20.0              0.035211          NaN             NaN   \n",
       "2                    50.0              0.035211          NaN             NaN   \n",
       "4                    50.0              0.088028          NaN             NaN   \n",
       "1                    50.0              0.176056          NaN             NaN   \n",
       "14                  100.0              0.035211          NaN             NaN   \n",
       "5                   100.0              0.088028          NaN             NaN   \n",
       "0                   100.0              0.176056          NaN             NaN   \n",
       "\n",
       "                                          num_imputer interactions  \\\n",
       "7                                                 NaN          NaN   \n",
       "9                                                 NaN          NaN   \n",
       "15                                                NaN          NaN   \n",
       "8   MeanMedianImputer(variables=['v2', 'v3', 'v4',...  passthrough   \n",
       "11                                                NaN          NaN   \n",
       "6                                                 NaN          NaN   \n",
       "10                                                NaN          NaN   \n",
       "13                                                NaN          NaN   \n",
       "3                                                 NaN          NaN   \n",
       "12                                                NaN          NaN   \n",
       "2                                                 NaN          NaN   \n",
       "4                                                 NaN          NaN   \n",
       "1                                                 NaN          NaN   \n",
       "14                                                NaN          NaN   \n",
       "5                                                 NaN          NaN   \n",
       "0                                                 NaN          NaN   \n",
       "\n",
       "                                          cat_encoder  \n",
       "7                                                 NaN  \n",
       "9                                                 NaN  \n",
       "15                                                NaN  \n",
       "8   OneHotEncoder(variables=['v1', 'v12', 'v14', '...  \n",
       "11                                                NaN  \n",
       "6                                                 NaN  \n",
       "10                                                NaN  \n",
       "13                                                NaN  \n",
       "3                                                 NaN  \n",
       "12                                                NaN  \n",
       "2                                                 NaN  \n",
       "4                                                 NaN  \n",
       "1                                                 NaN  \n",
       "14                                                NaN  \n",
       "5                                                 NaN  \n",
       "0                                                 NaN  "
      ]
     },
     "execution_count": 40,
     "metadata": {},
     "output_type": "execute_result"
    }
   ],
   "source": [
    "df_results.sort_values(\"auroc\", ascending=False)"
   ]
  },
  {
   "cell_type": "code",
   "execution_count": 41,
   "metadata": {},
   "outputs": [],
   "source": [
    "baseline_auroc = df_results.query(\"interactions == 'passthrough'\")['auroc'].iloc[0]"
   ]
  },
  {
   "cell_type": "code",
   "execution_count": 42,
   "metadata": {},
   "outputs": [
    {
     "data": {
      "image/png": "[encoded data removed]",
      "text/plain": [
       "<Figure size 1000x600 with 1 Axes>"
      ]
     },
     "metadata": {},
     "output_type": "display_data"
    }
   ],
   "source": [
    "# plot auroc by min_samples_leaf with one curve by rare label tol\n",
    "df_plot = df_results.pivot_table(\n",
    "    index=\"clf__min_samples_leaf\", columns=\"cat_rare_labels__tol\", values=\"auroc\")\n",
    "df_plot.plot(kind=\"line\", figsize=(10, 6))\n",
    "plt.axhline(y=baseline_auroc, color=\"red\", linestyle=\"--\")\n",
    "plt.ylabel(\"AUROC\")\n",
    "plt.show()"
   ]
  },
  {
   "attachments": {},
   "cell_type": "markdown",
   "metadata": {},
   "source": [
    "### Feature importance"
   ]
  },
  {
   "cell_type": "code",
   "execution_count": 43,
   "metadata": {},
   "outputs": [],
   "source": [
    "best_params = df_results.loc[df_results[\"auroc\"].idxmax()][\"params\"]\n",
    "best_pipe = clone(pipe)\n",
    "_ = best_pipe.set_params(**best_params)\n",
    "_ = best_pipe.fit(X, y)"
   ]
  },
  {
   "cell_type": "code",
   "execution_count": 44,
   "metadata": {},
   "outputs": [
    {
     "data": {
      "text/html": [
       "<div>\n",
       "<style scoped>\n",
       "    .dataframe tbody tr th:only-of-type {\n",
       "        vertical-align: middle;\n",
       "    }\n",
       "\n",
       "    .dataframe tbody tr th {\n",
       "        vertical-align: top;\n",
       "    }\n",
       "\n",
       "    .dataframe thead th {\n",
       "        text-align: right;\n",
       "    }\n",
       "</style>\n",
       "<table border=\"1\" class=\"dataframe\">\n",
       "  <thead>\n",
       "    <tr style=\"text-align: right;\">\n",
       "      <th></th>\n",
       "      <th>feature</th>\n",
       "      <th>importance</th>\n",
       "    </tr>\n",
       "  </thead>\n",
       "  <tbody>\n",
       "    <tr>\n",
       "      <th>14</th>\n",
       "      <td>v15</td>\n",
       "      <td>0.175943</td>\n",
       "    </tr>\n",
       "    <tr>\n",
       "      <th>8</th>\n",
       "      <td>v9</td>\n",
       "      <td>0.157502</td>\n",
       "    </tr>\n",
       "    <tr>\n",
       "      <th>15</th>\n",
       "      <td>v16</td>\n",
       "      <td>0.141709</td>\n",
       "    </tr>\n",
       "    <tr>\n",
       "      <th>7</th>\n",
       "      <td>v8</td>\n",
       "      <td>0.088230</td>\n",
       "    </tr>\n",
       "    <tr>\n",
       "      <th>4</th>\n",
       "      <td>v5</td>\n",
       "      <td>0.056360</td>\n",
       "    </tr>\n",
       "    <tr>\n",
       "      <th>12</th>\n",
       "      <td>v13</td>\n",
       "      <td>0.044610</td>\n",
       "    </tr>\n",
       "    <tr>\n",
       "      <th>11</th>\n",
       "      <td>v12</td>\n",
       "      <td>0.043233</td>\n",
       "    </tr>\n",
       "    <tr>\n",
       "      <th>16</th>\n",
       "      <td>v17</td>\n",
       "      <td>0.029092</td>\n",
       "    </tr>\n",
       "    <tr>\n",
       "      <th>5</th>\n",
       "      <td>v6</td>\n",
       "      <td>0.025352</td>\n",
       "    </tr>\n",
       "    <tr>\n",
       "      <th>2</th>\n",
       "      <td>v3</td>\n",
       "      <td>0.021382</td>\n",
       "    </tr>\n",
       "    <tr>\n",
       "      <th>3</th>\n",
       "      <td>v4</td>\n",
       "      <td>0.020393</td>\n",
       "    </tr>\n",
       "    <tr>\n",
       "      <th>19</th>\n",
       "      <td>v20</td>\n",
       "      <td>0.019603</td>\n",
       "    </tr>\n",
       "    <tr>\n",
       "      <th>24</th>\n",
       "      <td>v7_mul_v10</td>\n",
       "      <td>0.017247</td>\n",
       "    </tr>\n",
       "    <tr>\n",
       "      <th>25</th>\n",
       "      <td>v1_mul_v11</td>\n",
       "      <td>0.016285</td>\n",
       "    </tr>\n",
       "    <tr>\n",
       "      <th>23</th>\n",
       "      <td>v2_mul_v10</td>\n",
       "      <td>0.015720</td>\n",
       "    </tr>\n",
       "    <tr>\n",
       "      <th>18</th>\n",
       "      <td>v19</td>\n",
       "      <td>0.015558</td>\n",
       "    </tr>\n",
       "    <tr>\n",
       "      <th>26</th>\n",
       "      <td>v2_mul_v11</td>\n",
       "      <td>0.015309</td>\n",
       "    </tr>\n",
       "    <tr>\n",
       "      <th>9</th>\n",
       "      <td>v10</td>\n",
       "      <td>0.014250</td>\n",
       "    </tr>\n",
       "    <tr>\n",
       "      <th>10</th>\n",
       "      <td>v11</td>\n",
       "      <td>0.014134</td>\n",
       "    </tr>\n",
       "    <tr>\n",
       "      <th>27</th>\n",
       "      <td>v7_mul_v11</td>\n",
       "      <td>0.013930</td>\n",
       "    </tr>\n",
       "    <tr>\n",
       "      <th>6</th>\n",
       "      <td>v7</td>\n",
       "      <td>0.013498</td>\n",
       "    </tr>\n",
       "    <tr>\n",
       "      <th>1</th>\n",
       "      <td>v2</td>\n",
       "      <td>0.013085</td>\n",
       "    </tr>\n",
       "    <tr>\n",
       "      <th>17</th>\n",
       "      <td>v18</td>\n",
       "      <td>0.010988</td>\n",
       "    </tr>\n",
       "    <tr>\n",
       "      <th>22</th>\n",
       "      <td>v1_mul_v10</td>\n",
       "      <td>0.010573</td>\n",
       "    </tr>\n",
       "    <tr>\n",
       "      <th>0</th>\n",
       "      <td>v1</td>\n",
       "      <td>0.004087</td>\n",
       "    </tr>\n",
       "    <tr>\n",
       "      <th>13</th>\n",
       "      <td>v14</td>\n",
       "      <td>0.001797</td>\n",
       "    </tr>\n",
       "    <tr>\n",
       "      <th>20</th>\n",
       "      <td>v10_na</td>\n",
       "      <td>0.000132</td>\n",
       "    </tr>\n",
       "    <tr>\n",
       "      <th>21</th>\n",
       "      <td>v19_na</td>\n",
       "      <td>0.000000</td>\n",
       "    </tr>\n",
       "  </tbody>\n",
       "</table>\n",
       "</div>"
      ],
      "text/plain": [
       "       feature  importance\n",
       "14         v15    0.175943\n",
       "8           v9    0.157502\n",
       "15         v16    0.141709\n",
       "7           v8    0.088230\n",
       "4           v5    0.056360\n",
       "12         v13    0.044610\n",
       "11         v12    0.043233\n",
       "16         v17    0.029092\n",
       "5           v6    0.025352\n",
       "2           v3    0.021382\n",
       "3           v4    0.020393\n",
       "19         v20    0.019603\n",
       "24  v7_mul_v10    0.017247\n",
       "25  v1_mul_v11    0.016285\n",
       "23  v2_mul_v10    0.015720\n",
       "18         v19    0.015558\n",
       "26  v2_mul_v11    0.015309\n",
       "9          v10    0.014250\n",
       "10         v11    0.014134\n",
       "27  v7_mul_v11    0.013930\n",
       "6           v7    0.013498\n",
       "1           v2    0.013085\n",
       "17         v18    0.010988\n",
       "22  v1_mul_v10    0.010573\n",
       "0           v1    0.004087\n",
       "13         v14    0.001797\n",
       "20      v10_na    0.000132\n",
       "21      v19_na    0.000000"
      ]
     },
     "execution_count": 44,
     "metadata": {},
     "output_type": "execute_result"
    }
   ],
   "source": [
    "# feature importance\n",
    "importances = best_pipe.named_steps['clf'].feature_importances_\n",
    "# get feature names\n",
    "feature_names = best_pipe[-2].get_feature_names_out() # anteultimo paso\n",
    "# # NOTE equivalent to:\n",
    "# X_transformed = best_pipe[:-1].transform(X)\n",
    "# X_transformed.columns\n",
    "\n",
    "df_importance = pd.DataFrame({'feature': feature_names, 'importance': importances})\n",
    "df_importance.sort_values(\"importance\", ascending=False)"
   ]
  },
  {
   "attachments": {},
   "cell_type": "markdown",
   "metadata": {},
   "source": [
    "**Una buena idea** es correr un RandomForest baseline al comienzo del análisis y analizar el _feature importance_.\n",
    "\n",
    "Si:\n",
    "\n",
    "1. vemos que algunas variables tienen un valor de importancia demasiado bajo, \n",
    "2. nuestra intuición/conocimiento del dominio nos dice que probablemente sean irrelevantes para la predicción, y\n",
    "3. vemos que al eliminar las variables la performance del baseline no se deteriora \n",
    "\n",
    "podemos eliminar esas variables al comienzo. De esta manera, las corridas subsiguientes del modelo pueden llegar a ser mucho más eficientes."
   ]
  },
  {
   "attachments": {},
   "cell_type": "markdown",
   "metadata": {},
   "source": [
    "### Save pipeline"
   ]
  },
  {
   "cell_type": "code",
   "execution_count": 45,
   "metadata": {},
   "outputs": [],
   "source": [
    "# save best pipeline as pickle\n",
    "with open(\"best_pipe.pkl\", \"wb\") as f:\n",
    "    pickle.dump(best_pipe, f)"
   ]
  },
  {
   "attachments": {},
   "cell_type": "markdown",
   "metadata": {},
   "source": [
    "Finalmente podemos correr:\n",
    "\n",
    "```bash\n",
    "python clf_predict_test.py\n",
    "```\n",
    "\n",
    "para generar las predicciones de test. Y podríamos tener otra notebook para evaluar el rendimiento en test."
   ]
  },
  {
   "attachments": {},
   "cell_type": "markdown",
   "metadata": {},
   "source": [
    "---------------------------"
   ]
  }
 ],
 "metadata": {
  "interpreter": {
   "hash": "70aae090dcf60b41e7cc1692a84d4f6e0a269d03152970a28664643b73443561"
  },
  "kernelspec": {
   "display_name": "Python 3",
   "language": "python",
   "name": "python3"
  },
  "language_info": {
   "codemirror_mode": {
    "name": "ipython",
    "version": 3
   },
   "file_extension": ".py",
   "mimetype": "text/x-python",
   "name": "python",
   "nbconvert_exporter": "python",
   "pygments_lexer": "ipython3",
   "version": "3.9.13"
  }
 },
 "nbformat": 4,
 "nbformat_minor": 2
}
