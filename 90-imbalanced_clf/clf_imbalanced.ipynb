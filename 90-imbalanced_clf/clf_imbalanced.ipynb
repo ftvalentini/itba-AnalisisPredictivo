{
 "cells": [
  {
   "cell_type": "code",
   "execution_count": 1,
   "metadata": {},
   "outputs": [],
   "source": [
    "import numpy as np\n",
    "import pandas as pd\n",
    "import matplotlib.pyplot as plt\n",
    "from sklearn.datasets import make_classification\n",
    "from sklearn.model_selection import train_test_split\n",
    "from lightgbm import LGBMClassifier\n",
    "from imblearn.over_sampling import RandomOverSampler\n",
    "from imblearn.pipeline import Pipeline \n",
    "from sklearn.metrics import (\n",
    "    accuracy_score, precision_score, recall_score, fbeta_score, f1_score,\n",
    "    matthews_corrcoef, balanced_accuracy_score,\n",
    "    roc_auc_score, average_precision_score, classification_report, confusion_matrix\n",
    ")\n",
    "from scikitplot.metrics import plot_roc, plot_confusion_matrix, plot_precision_recall"
   ]
  },
  {
   "cell_type": "markdown",
   "metadata": {},
   "source": [
    "### Data\n",
    "\n",
    "Simulamos un dataset de clasificación desbalanceado."
   ]
  },
  {
   "cell_type": "code",
   "execution_count": 2,
   "metadata": {},
   "outputs": [],
   "source": [
    "X, y = make_classification(\n",
    "    n_samples=20_000, n_features=4, n_informative=4, n_redundant=0, n_classes=2,\n",
    "\tn_clusters_per_class=1, weights=[0.98, 0.02], flip_y=0.05, class_sep=0.8, \n",
    "    random_state=18)"
   ]
  },
  {
   "cell_type": "code",
   "execution_count": 3,
   "metadata": {},
   "outputs": [
    {
     "name": "stdout",
     "output_type": "stream",
     "text": [
      "0.04345\n"
     ]
    }
   ],
   "source": [
    "print(y.mean()) # because of flip_y!"
   ]
  },
  {
   "cell_type": "code",
   "execution_count": 4,
   "metadata": {},
   "outputs": [],
   "source": [
    "X_train, X_val, y_train, y_val = train_test_split(\n",
    "    X, y, test_size=0.5, stratify=y, random_state=33)"
   ]
  },
  {
   "cell_type": "code",
   "execution_count": 5,
   "metadata": {},
   "outputs": [
    {
     "name": "stdout",
     "output_type": "stream",
     "text": [
      "0.0435\n",
      "0.0434\n"
     ]
    }
   ],
   "source": [
    "print(y_train.mean())\n",
    "print(y_val.mean())"
   ]
  },
  {
   "cell_type": "code",
   "execution_count": 6,
   "metadata": {},
   "outputs": [
    {
     "name": "stdout",
     "output_type": "stream",
     "text": [
      "435\n",
      "434\n"
     ]
    }
   ],
   "source": [
    "print(y_train.sum())\n",
    "print(y_val.sum())"
   ]
  },
  {
   "cell_type": "markdown",
   "metadata": {},
   "source": [
    "### Training\n",
    "\n",
    "Vamos a entrenar un clasificador LightGBM usando hiperparámetros default y suponiendo que nos interesa optimizar el F2 score. \n",
    "\n",
    "Recordemos algunas definiciones:\n",
    "\n",
    "$$\n",
    "R = recall = \\frac{TP}{P} = 1 - FNR \\\\\n",
    "\n",
    "specificity = \\frac{TN}{N} = 1 - FPR \\\\\n",
    "\n",
    "P = precision = \\frac{TP}{P^{est}} \\\\\n",
    "\n",
    "F_{\\beta} = \\frac{(\\beta^2 + 1)PR }{\\beta^2 P + R}  \\\\\n",
    "$$\n",
    "\n",
    "\n",
    "\n",
    "\n",
    "\n",
    "Vamos a probar tres estrategias para tratar el desbalance -- no son excluyentes!"
   ]
  },
  {
   "cell_type": "code",
   "execution_count": 7,
   "metadata": {},
   "outputs": [],
   "source": [
    "# NOTE default HPs, no tuning\n",
    "params = dict(n_jobs=2)"
   ]
  },
  {
   "cell_type": "markdown",
   "metadata": {},
   "source": [
    "**1. Thresholding**\n",
    "\n",
    "Entrenamos un modelo sin modificaciones y buscamos un punto de corte que optimice la métrica."
   ]
  },
  {
   "cell_type": "code",
   "execution_count": 8,
   "metadata": {},
   "outputs": [],
   "source": [
    "clf_base = LGBMClassifier(**params)"
   ]
  },
  {
   "cell_type": "code",
   "execution_count": 9,
   "metadata": {},
   "outputs": [
    {
     "name": "stdout",
     "output_type": "stream",
     "text": [
      "Wall time: 466 ms\n"
     ]
    }
   ],
   "source": [
    "%%time\n",
    "_ = clf_base.fit(X_train, y_train)"
   ]
  },
  {
   "cell_type": "code",
   "execution_count": 10,
   "metadata": {},
   "outputs": [],
   "source": [
    "def f2_score(y, y_pred, beta=2):\n",
    "    return fbeta_score(y, y_pred, beta=beta)\n",
    "\n",
    "def get_proba(clf, X):\n",
    "    return clf.predict_proba(X)[:, 1]\n",
    "\n",
    "def metrics_by_threshold(clf, X, y, metric_fn):\n",
    "    thresholds = np.linspace(0, 1, 100)\n",
    "    y_pred_proba = get_proba(clf, X)\n",
    "    metrics = [metric_fn(y, y_pred_proba > t) for t in thresholds]\n",
    "    return pd.DataFrame({\"threshold\": thresholds, \"metric\": metrics})\n",
    "\n",
    "def plot_metric_by_threshold(clf, X, y, metric_fn):\n",
    "    df_thresholds = metrics_by_threshold(clf, X, y, metric_fn)\n",
    "    df_optimal = df_thresholds.loc[df_thresholds[\"metric\"].idxmax()]\n",
    "    optimal_threshold = df_optimal[\"threshold\"]\n",
    "    max_metric = df_optimal[\"metric\"]\n",
    "    # vertical bar at optimal threshold\n",
    "    plt.axvline(x=optimal_threshold, color=\"r\", linestyle=\"--\")\n",
    "    plt.axvline(x=0.5, color=\"gray\", linestyle=\"--\")\n",
    "    plt.plot(df_thresholds[\"threshold\"], df_thresholds[\"metric\"])\n",
    "    plt.xlim(0,1)\n",
    "    # max value and optimal threshold in the title:\n",
    "    plt.title(\n",
    "        f\"max {metric_fn.__name__}: {max_metric:.3f} threshold = {optimal_threshold:.3f}\")\n",
    "\n",
    "def print_metrics(clf, X, y, threshold=.5):\n",
    "    y_pred_proba = get_proba(clf, X)\n",
    "    y_pred = y_pred_proba > threshold\n",
    "    print(f\"### threshold = {threshold:.3f}\")\n",
    "    print(f\"accuracy: {accuracy_score(y, y_pred):.3f}\")\n",
    "    print(f\"f2: {f2_score(y, y_pred):.3f}\")\n",
    "    print(f\"roc_auc: {roc_auc_score(y, y_pred_proba):.3f}\")\n",
    "\n",
    "def clf_diagnostic(clf, X, y, metric_fn=f2_score):\n",
    "    plot_metric_by_threshold(clf, X, y, metric_fn)\n",
    "    plt.show()\n",
    "    df_threshold = metrics_by_threshold(clf, X, y, metric_fn)\n",
    "    threshold = df_threshold.loc[df_threshold[\"metric\"].idxmax()][\"threshold\"]\n",
    "    print_metrics(clf, X_val, y_val, threshold)\n",
    "    print_metrics(clf, X_val, y_val, 0.5)\n"
   ]
  },
  {
   "cell_type": "code",
   "execution_count": 13,
   "metadata": {},
   "outputs": [
    {
     "data": {
      "image/png": "[encoded data removed]",
      "text/plain": [
       "<Figure size 432x288 with 1 Axes>"
      ]
     },
     "metadata": {
      "needs_background": "light"
     },
     "output_type": "display_data"
    },
    {
     "name": "stdout",
     "output_type": "stream",
     "text": [
      "### threshold = 0.051\n",
      "accuracy: 0.833\n",
      "f2: 0.278\n",
      "roc_auc: 0.695\n",
      "### threshold = 0.500\n",
      "accuracy: 0.960\n",
      "f2: 0.152\n",
      "roc_auc: 0.695\n"
     ]
    }
   ],
   "source": [
    "clf_diagnostic(clf_base, X_val, y_val, metric_fn=f2_score)"
   ]
  },
  {
   "cell_type": "markdown",
   "metadata": {},
   "source": [
    "> ¿Por qué cae el accuracy entre los 2 puntos de corte?"
   ]
  },
  {
   "cell_type": "markdown",
   "metadata": {},
   "source": [
    "**2. Pesos en la función de pérdida**\n",
    "\n",
    "En general los modelos supervisados optimizan internamente una métrica (función de pérdida o costos). Muchas veces estas métricas admiten ponderadores; es decir, costos diferenciales para cada clase. \n",
    "\n",
    "Incrementando el costo del error de clasificación para la clase menos frecuente podemos obtener automáticamente scores que sirvan para optimizar métricas que ponderen más a la clase minoritaria, como es el F2 en este caso.\n",
    "\n",
    "**Por ejemplo**, para un problema de clasificación con $K$ clases, la _log-loss_ o _cross-entropy_:\n",
    "\n",
    "$$\n",
    "- \\sum_{c=1}^K y_{c} \\log \\hat{p}_{c}\n",
    "$$\n",
    "\n",
    "se puede modificar con pesos para cada clase: \n",
    "\n",
    "$$\n",
    "- \\sum_{c=1}^K w_{c} y_{c} \\log \\hat{p}_{c}\n",
    "$$\n",
    "\n",
    "tal que $w_{c}$ pondera a cada clase inversamente según su frecuencia. En particular, en `sklearn` los pesos se definen de manera tal que las observaciones de cada clase tengan la misma representación en los datos de entrenamiento:\n"
   ]
  },
  {
   "cell_type": "code",
   "execution_count": 4,
   "metadata": {},
   "outputs": [
    {
     "name": "stderr",
     "output_type": "stream",
     "text": [
      "c:\\Users\\Fran\\anaconda3\\lib\\site-packages\\ipykernel_launcher.py:4: RuntimeWarning: divide by zero encountered in log\n",
      "  after removing the cwd from sys.path.\n"
     ]
    },
    {
     "data": {
      "image/png": "[encoded data removed]",
      "text/plain": [
       "<Figure size 432x288 with 1 Axes>"
      ]
     },
     "metadata": {
      "needs_background": "light"
     },
     "output_type": "display_data"
    }
   ],
   "source": [
    "import numpy as np\n",
    "import matplotlib.pyplot as plt\n",
    "x = np.linspace(0, 2, 200)\n",
    "y = np.log(x)\n",
    "plt.axvline(x=1, color=\"r\", linestyle=\"--\")\n",
    "plt.plot(x, y)\n",
    "plt.show()"
   ]
  },
  {
   "cell_type": "code",
   "execution_count": 22,
   "metadata": {},
   "outputs": [
    {
     "name": "stdout",
     "output_type": "stream",
     "text": [
      "raw frequencies:\n",
      "[9565  435]\n",
      "class weights:\n",
      "[ 0.52273915 11.49425287]\n",
      "[5000. 5000.]\n"
     ]
    }
   ],
   "source": [
    "n_samples = X_train.shape[0]\n",
    "freq_classes = np.bincount(y_train)\n",
    "n_classes = len(freq_classes)\n",
    "\n",
    "print(\"raw frequencies:\")\n",
    "print(freq_classes)\n",
    "\n",
    "ws = n_samples / (n_classes * freq_classes)\n",
    "print(\"class weights:\")\n",
    "print(ws)\n",
    "print(freq_classes * ws)"
   ]
  },
  {
   "cell_type": "code",
   "execution_count": 27,
   "metadata": {},
   "outputs": [],
   "source": [
    "clf_weights = LGBMClassifier(is_unbalance=True, **params)\n",
    "# NOTE for custom class weights, use scale_pos_weight\n",
    "# (https://github.com/microsoft/LightGBM/issues/1299#issuecomment-379179552)"
   ]
  },
  {
   "cell_type": "code",
   "execution_count": 28,
   "metadata": {},
   "outputs": [
    {
     "name": "stdout",
     "output_type": "stream",
     "text": [
      "Wall time: 347 ms\n"
     ]
    }
   ],
   "source": [
    "%%time\n",
    "_ = clf_weights.fit(X_train, y_train)"
   ]
  },
  {
   "cell_type": "code",
   "execution_count": 29,
   "metadata": {},
   "outputs": [
    {
     "data": {
      "image/png": "[encoded data removed]",
      "text/plain": [
       "<Figure size 432x288 with 1 Axes>"
      ]
     },
     "metadata": {
      "needs_background": "light"
     },
     "output_type": "display_data"
    },
    {
     "name": "stdout",
     "output_type": "stream",
     "text": [
      "### threshold = 0.475\n",
      "accuracy: 0.890\n",
      "f2: 0.316\n",
      "roc_auc: 0.696\n",
      "### threshold = 0.500\n",
      "accuracy: 0.900\n",
      "f2: 0.312\n",
      "roc_auc: 0.696\n"
     ]
    }
   ],
   "source": [
    "clf_diagnostic(clf_weights, X_val, y_val)"
   ]
  },
  {
   "cell_type": "markdown",
   "metadata": {},
   "source": [
    "**3. Resampling**\n",
    "\n",
    "Hay mútliples estrategias que remuestrean los datos de entrenamiento de manera tal que las clases tengan la misma frecuencia. \n",
    "\n",
    "La estrategia más simple es la de **random over-sampling**. \n",
    "\n",
    "Pueden revisar otras estrategias más sofisticadas en la [guía de `imblearn`](https://imbalanced-learn.org/stable/user_guide.html)."
   ]
  },
  {
   "cell_type": "code",
   "execution_count": 36,
   "metadata": {},
   "outputs": [],
   "source": [
    "clf_ros = Pipeline([\n",
    "    ('ros', RandomOverSampler(random_state=0)),\n",
    "    ('clf', LGBMClassifier(**params)),\n",
    "])"
   ]
  },
  {
   "cell_type": "code",
   "execution_count": 37,
   "metadata": {},
   "outputs": [
    {
     "name": "stdout",
     "output_type": "stream",
     "text": [
      "Wall time: 554 ms\n"
     ]
    }
   ],
   "source": [
    "%%time\n",
    "_ = clf_ros.fit(X_train, y_train)"
   ]
  },
  {
   "cell_type": "code",
   "execution_count": 38,
   "metadata": {},
   "outputs": [
    {
     "data": {
      "image/png": "[encoded data removed]",
      "text/plain": [
       "<Figure size 432x288 with 1 Axes>"
      ]
     },
     "metadata": {
      "needs_background": "light"
     },
     "output_type": "display_data"
    },
    {
     "name": "stdout",
     "output_type": "stream",
     "text": [
      "### threshold = 0.444\n",
      "accuracy: 0.874\n",
      "f2: 0.299\n",
      "roc_auc: 0.691\n",
      "### threshold = 0.500\n",
      "accuracy: 0.902\n",
      "f2: 0.287\n",
      "roc_auc: 0.691\n"
     ]
    }
   ],
   "source": [
    "clf_diagnostic(clf_ros, X_val, y_val)"
   ]
  },
  {
   "cell_type": "markdown",
   "metadata": {},
   "source": [
    "### Distribuciones de los scores\n",
    "\n",
    "¡**OJO** con la escala de las predicciones! Puede ser importante conservar la interpretación de probabilidad de los scores, que con algunas estrategias se pierde..."
   ]
  },
  {
   "cell_type": "code",
   "execution_count": 39,
   "metadata": {},
   "outputs": [
    {
     "data": {
      "image/png": "[encoded data removed]",
      "text/plain": [
       "<Figure size 864x288 with 1 Axes>"
      ]
     },
     "metadata": {
      "needs_background": "light"
     },
     "output_type": "display_data"
    }
   ],
   "source": [
    "# density distribution of predictions of the 3 models\n",
    "fig, ax = plt.subplots(figsize=(12, 4))\n",
    "ax.hist(get_proba(clf_base, X_val), bins=100, label=\"base\", alpha=.5)\n",
    "ax.hist(get_proba(clf_weights, X_val), bins=100, label=\"weights\", alpha=.5)\n",
    "ax.hist(get_proba(clf_ros, X_val), bins=100, label=\"ros\", alpha=.5)\n",
    "plt.legend()\n",
    "plt.show()"
   ]
  },
  {
   "cell_type": "markdown",
   "metadata": {},
   "source": [
    "### Métricas de performance\n",
    "\n",
    "Vamos a conservar el modelo que usa _class weights_ con un threshold de 0.5 y analizar distintas métricas de performance. \n",
    "\n",
    "**Nunca olvidar que la elección de métrica depende del problema!**"
   ]
  },
  {
   "cell_type": "code",
   "execution_count": 40,
   "metadata": {},
   "outputs": [],
   "source": [
    "# usamos el modelo con class weights\n",
    "y_val_pred_proba = clf_weights.predict_proba(X_val)[:, 1]\n",
    "y_val_pred = y_val_pred_proba > 0.5"
   ]
  },
  {
   "cell_type": "markdown",
   "metadata": {},
   "source": [
    "#### Bondad global del modelo"
   ]
  },
  {
   "cell_type": "code",
   "execution_count": 41,
   "metadata": {},
   "outputs": [
    {
     "name": "stdout",
     "output_type": "stream",
     "text": [
      "AUROC: 0.6964\n"
     ]
    }
   ],
   "source": [
    "print(f\"AUROC: {roc_auc_score(y_val, y_val_pred_proba):.4f}\")"
   ]
  },
  {
   "cell_type": "code",
   "execution_count": 42,
   "metadata": {},
   "outputs": [
    {
     "data": {
      "image/png": "[encoded data removed]",
      "text/plain": [
       "<Figure size 432x288 with 1 Axes>"
      ]
     },
     "metadata": {
      "needs_background": "light"
     },
     "output_type": "display_data"
    }
   ],
   "source": [
    "# plot the ROC curve\n",
    "y_pred_ = clf_weights.predict_proba(X_val)\n",
    "plot_roc(y_val, y_pred_, classes_to_plot=[1], plot_micro=False, plot_macro=False)\n",
    "plt.show()\n",
    "# NOTE exije las 2 columnas"
   ]
  },
  {
   "cell_type": "markdown",
   "metadata": {},
   "source": [
    "AUROC es **simétrica** e **insensible al desbalance**. \n",
    "\n",
    "Esto es porque $FPR = FP / (FP + TN)$. En datos desbalanceados $TN$ tiene un peso grande y la $FPR$ tiende a quedarse en valores bajos, lo cual la vuelve poco informativa.\n",
    "\n",
    "Puede haber cambios sensibles en la precisión no capturados por FPR -- por ejemplo:"
   ]
  },
  {
   "cell_type": "code",
   "execution_count": 43,
   "metadata": {},
   "outputs": [
    {
     "data": {
      "image/png": "[encoded data removed]",
      "text/plain": [
       "<Figure size 432x288 with 2 Axes>"
      ]
     },
     "metadata": {
      "needs_background": "light"
     },
     "output_type": "display_data"
    }
   ],
   "source": [
    "plot_confusion_matrix(y_val, y_val_pred, normalize=False)\n",
    "plt.show()"
   ]
  },
  {
   "cell_type": "code",
   "execution_count": 44,
   "metadata": {},
   "outputs": [
    {
     "name": "stdout",
     "output_type": "stream",
     "text": [
      "precision = 0.1830\n",
      "FPR = 0.0765\n"
     ]
    }
   ],
   "source": [
    "tn, fp, fn, tp = confusion_matrix(y_val, y_val_pred).ravel()\n",
    "print(f\"precision = {tp / (tp + fp):.4f}\")\n",
    "print(f\"FPR = {fp / (fp + tn):.4f}\")"
   ]
  },
  {
   "cell_type": "code",
   "execution_count": 45,
   "metadata": {},
   "outputs": [
    {
     "name": "stdout",
     "output_type": "stream",
     "text": [
      "precision = 0.2946\n",
      "FPR = 0.0661\n"
     ]
    }
   ],
   "source": [
    "# modelo que reduce en 100 los falsos positivos\n",
    "tp_ = tp + 100\n",
    "fp_ = fp - 100\n",
    "tn_ = tn + 100\n",
    "fn_ = fn - 100\n",
    "print(f\"precision = {tp_ / (tp_ + fp_):.4f}\")\n",
    "print(f\"FPR = {fp_ / (fp_ + tn_):.4f}\")"
   ]
  },
  {
   "cell_type": "markdown",
   "metadata": {},
   "source": [
    "La precision cambió sensiblemente pero FPR no captura esto! \n",
    "\n",
    "AUROC evalúa FPR (bondad para captar negativos) y TNR (bondad para captar positivos) \"por separado\" y con la misma ponderación. Por eso es **simétrica**: si invertimos la codificación del target, el resultado es el mismo.\n",
    "\n",
    "Si queremos una métrica _global_ para el caso en el que los positivos son más importantes (los movimientos en los FP son importantes) podemos usar el **Area Under the Precision-Recall Curve** (AUPRC).\n",
    "\n",
    "Sobre todo en datasets desbalanceados, dos modelos pueden tener AUROC similar pero muy distinta AUPRC! Vean por ejemplo [este post](https://sinyi-chou.github.io/)."
   ]
  },
  {
   "cell_type": "code",
   "execution_count": 46,
   "metadata": {},
   "outputs": [
    {
     "name": "stdout",
     "output_type": "stream",
     "text": [
      "AUPRC: 0.274\n"
     ]
    }
   ],
   "source": [
    "print(f\"AUPRC: {average_precision_score(y_val, y_val_pred_proba):.3f}\")"
   ]
  },
  {
   "cell_type": "code",
   "execution_count": 47,
   "metadata": {},
   "outputs": [
    {
     "data": {
      "image/png": "[encoded data removed]",
      "text/plain": [
       "<Figure size 432x288 with 1 Axes>"
      ]
     },
     "metadata": {
      "needs_background": "light"
     },
     "output_type": "display_data"
    }
   ],
   "source": [
    "y_pred_ = clf_weights.predict_proba(X_val)\n",
    "plot_precision_recall(y_val, y_pred_, classes_to_plot=[1], plot_micro=False,)\n",
    "plt.show()"
   ]
  },
  {
   "cell_type": "markdown",
   "metadata": {},
   "source": [
    "Tengan en cuenta que, a diferencia de AUROC, los valores de AUPRC dependen _mucho_ de la distribución del target, de modo que modelos de datasets con distinta distribución de clases no son inmediatamente comparables."
   ]
  },
  {
   "cell_type": "markdown",
   "metadata": {},
   "source": [
    "#### Métricas de clasificación\n",
    "\n",
    "Ya sabemos que accuracy es poco informativa en datos desbalanceados.\n",
    "\n",
    "Si el problema es asimétrico (nos interesan más los positivos que los negativos), podemos usar el F-score."
   ]
  },
  {
   "cell_type": "code",
   "execution_count": 48,
   "metadata": {},
   "outputs": [
    {
     "name": "stdout",
     "output_type": "stream",
     "text": [
      "              precision    recall  f1-score   support\n",
      "\n",
      "           0       0.97      0.92      0.95      9566\n",
      "           1       0.18      0.38      0.25       434\n",
      "\n",
      "    accuracy                           0.90     10000\n",
      "   macro avg       0.58      0.65      0.60     10000\n",
      "weighted avg       0.94      0.90      0.92     10000\n",
      "\n"
     ]
    },
    {
     "ename": "",
     "evalue": "",
     "output_type": "error",
     "traceback": [
      "\u001b[1;31mThe Kernel crashed while executing code in the the current cell or a previous cell. Please review the code in the cell(s) to identify a possible cause of the failure. Click <a href='https://aka.ms/vscodeJupyterKernelCrash'>here</a> for more info. View Jupyter <a href='command:jupyter.viewOutput'>log</a> for further details."
     ]
    }
   ],
   "source": [
    "print(\n",
    "    classification_report(y_val, y_val_pred, labels=clf_weights.classes_))"
   ]
  },
  {
   "cell_type": "markdown",
   "metadata": {},
   "source": [
    "Para problemas \"simétricos\" con datos desbalanceados podemos usar:\n",
    "\n",
    "* **Balanced accuracy**: es el promedio simple del _recall_ de cada clase (en el caso binario es el promedio simple de la _sensibilidad_ y la _especificidad_).\n",
    "\n",
    "* **MCC** (Matthews Correlation Coefficient): es **muy** parecido a la V de Cramér (para el caso binario)! +1 indica una clasificación perfecta, 0 una predicción random y -1 una predicción invertida. Más detalles [acá](https://en.wikipedia.org/wiki/Phi_coefficient#Machine_learning). "
   ]
  },
  {
   "cell_type": "code",
   "execution_count": null,
   "metadata": {},
   "outputs": [
    {
     "name": "stdout",
     "output_type": "stream",
     "text": [
      "Balanced accuracy = 0.6507\n",
      "MCC = 0.2150\n"
     ]
    }
   ],
   "source": [
    "print(f\"Balanced accuracy = {balanced_accuracy_score(y_val, y_val_pred):.4f}\")\n",
    "print(f\"MCC = {matthews_corrcoef(y_val, y_val_pred):.4f}\")"
   ]
  },
  {
   "cell_type": "markdown",
   "metadata": {},
   "source": [
    "--------------------------------------\n",
    "\n",
    "Sugerimos que entiendan las métricas analizando cómo se comporta cada una frente a un modelo _tonto_ (predice siempre la clase mayoritaria o que hace una predicción _random_)."
   ]
  },
  {
   "cell_type": "code",
   "execution_count": null,
   "metadata": {},
   "outputs": [],
   "source": [
    "# el modelo mas simple:\n",
    "y_majority = pd.Series(y_train).value_counts().index[0]\n",
    "y_val_pred_0 = np.full_like(y_val, y_majority)\n",
    "\n",
    "# el modelo mas tonto:\n",
    "y_val_pred_proba_dummy = np.random.uniform(size=y_val.shape)\n",
    "y_val_pred_dummy = (y_val_pred_proba_dummy > 0.5).astype(int)\n"
   ]
  }
 ],
 "metadata": {
  "interpreter": {
   "hash": "70aae090dcf60b41e7cc1692a84d4f6e0a269d03152970a28664643b73443561"
  },
  "kernelspec": {
   "display_name": "Python 3.7.6 ('base')",
   "language": "python",
   "name": "python3"
  },
  "language_info": {
   "codemirror_mode": {
    "name": "ipython",
    "version": 3
   },
   "file_extension": ".py",
   "mimetype": "text/x-python",
   "name": "python",
   "nbconvert_exporter": "python",
   "pygments_lexer": "ipython3",
   "version": "3.7.6"
  },
  "orig_nbformat": 4
 },
 "nbformat": 4,
 "nbformat_minor": 2
}
