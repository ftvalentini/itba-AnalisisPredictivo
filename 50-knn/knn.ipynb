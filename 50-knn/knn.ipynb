{
 "cells": [
  {
   "cell_type": "markdown",
   "metadata": {},
   "source": [
    "# K-nearest Neighbors\n",
    "\n",
    "Ejemplo de clasificación con KNN con sklearn."
   ]
  },
  {
   "cell_type": "code",
   "execution_count": 1,
   "metadata": {},
   "outputs": [],
   "source": [
    "import pandas as pd\n",
    "import seaborn as sns\n",
    "import matplotlib.pyplot as plt\n",
    "from sklearn import set_config\n",
    "from sklearn.model_selection import train_test_split\n",
    "from sklearn.pipeline import Pipeline\n",
    "from sklearn.compose import ColumnTransformer\n",
    "from sklearn.preprocessing import OneHotEncoder, MinMaxScaler\n",
    "from sklearn.neighbors import KNeighborsClassifier\n",
    "from sklearn.metrics import accuracy_score, confusion_matrix\n",
    "from sklearn.model_selection import GridSearchCV, PredefinedSplit"
   ]
  },
  {
   "cell_type": "markdown",
   "metadata": {},
   "source": [
    "## Datos\n",
    "\n",
    "Usamos el dataset `penguins` de seaborn creado por [Allison Horst](https://github.com/allisonhorst/palmerpenguins#about-the-data)."
   ]
  },
  {
   "cell_type": "code",
   "execution_count": 2,
   "metadata": {},
   "outputs": [],
   "source": [
    "df = sns.load_dataset(\"penguins\")"
   ]
  },
  {
   "cell_type": "code",
   "execution_count": 3,
   "metadata": {},
   "outputs": [
    {
     "name": "stdout",
     "output_type": "stream",
     "text": [
      "<class 'pandas.core.frame.DataFrame'>\n",
      "RangeIndex: 344 entries, 0 to 343\n",
      "Data columns (total 7 columns):\n",
      " #   Column             Non-Null Count  Dtype  \n",
      "---  ------             --------------  -----  \n",
      " 0   species            344 non-null    object \n",
      " 1   island             344 non-null    object \n",
      " 2   bill_length_mm     342 non-null    float64\n",
      " 3   bill_depth_mm      342 non-null    float64\n",
      " 4   flipper_length_mm  342 non-null    float64\n",
      " 5   body_mass_g        342 non-null    float64\n",
      " 6   sex                333 non-null    object \n",
      "dtypes: float64(4), object(3)\n",
      "memory usage: 18.9+ KB\n"
     ]
    }
   ],
   "source": [
    "df.info()"
   ]
  },
  {
   "cell_type": "markdown",
   "metadata": {},
   "source": [
    "Por simplicidad, eliminamos los registros con datos faltantes."
   ]
  },
  {
   "cell_type": "code",
   "execution_count": 4,
   "metadata": {},
   "outputs": [],
   "source": [
    "df = df.dropna() "
   ]
  },
  {
   "cell_type": "code",
   "execution_count": 5,
   "metadata": {},
   "outputs": [
    {
     "data": {
      "text/plain": [
       "Adelie       146\n",
       "Gentoo       119\n",
       "Chinstrap     68\n",
       "Name: species, dtype: int64"
      ]
     },
     "execution_count": 5,
     "metadata": {},
     "output_type": "execute_result"
    }
   ],
   "source": [
    "df['species'].value_counts()"
   ]
  },
  {
   "cell_type": "markdown",
   "metadata": {},
   "source": [
    "Separamos los datos en features y target."
   ]
  },
  {
   "cell_type": "code",
   "execution_count": 6,
   "metadata": {},
   "outputs": [],
   "source": [
    "X = df.drop(columns=['species'])\n",
    "y = df['species']"
   ]
  },
  {
   "cell_type": "markdown",
   "metadata": {},
   "source": [
    "Particionamos los datos en training y validation.\n",
    "\n",
    ">**Importante**: estamos asumiendo que previamente hicimos una partición en train y test. Es decir, la partición final se ve así:\n",
    "\n",
    "<img src=\"train_val_test.png\">"
   ]
  },
  {
   "cell_type": "code",
   "execution_count": 7,
   "metadata": {},
   "outputs": [],
   "source": [
    "X_train, X_val, y_train, y_val = train_test_split(X, y, test_size=0.25, random_state=33)"
   ]
  },
  {
   "cell_type": "markdown",
   "metadata": {},
   "source": [
    "## Modelo\n",
    "\n",
    "Sugerimos ver estos ejemplos de sklearn:\n",
    "\n",
    "* [ejemplo 1](https://scikit-learn.org/stable/auto_examples/compose/plot_column_transformer_mixed_types.html#column-transformer-with-mixed-types)\n",
    "* [ejemplo 2](https://scikit-learn.org/stable/common_pitfalls.html)"
   ]
  },
  {
   "cell_type": "markdown",
   "metadata": {},
   "source": [
    "### Ajuste"
   ]
  },
  {
   "cell_type": "code",
   "execution_count": 8,
   "metadata": {},
   "outputs": [
    {
     "data": {
      "text/html": [
       "<div>\n",
       "<style scoped>\n",
       "    .dataframe tbody tr th:only-of-type {\n",
       "        vertical-align: middle;\n",
       "    }\n",
       "\n",
       "    .dataframe tbody tr th {\n",
       "        vertical-align: top;\n",
       "    }\n",
       "\n",
       "    .dataframe thead th {\n",
       "        text-align: right;\n",
       "    }\n",
       "</style>\n",
       "<table border=\"1\" class=\"dataframe\">\n",
       "  <thead>\n",
       "    <tr style=\"text-align: right;\">\n",
       "      <th></th>\n",
       "      <th>island</th>\n",
       "      <th>bill_length_mm</th>\n",
       "      <th>bill_depth_mm</th>\n",
       "      <th>flipper_length_mm</th>\n",
       "      <th>body_mass_g</th>\n",
       "      <th>sex</th>\n",
       "    </tr>\n",
       "  </thead>\n",
       "  <tbody>\n",
       "    <tr>\n",
       "      <th>313</th>\n",
       "      <td>Biscoe</td>\n",
       "      <td>49.5</td>\n",
       "      <td>16.1</td>\n",
       "      <td>224.0</td>\n",
       "      <td>5650.0</td>\n",
       "      <td>MALE</td>\n",
       "    </tr>\n",
       "    <tr>\n",
       "      <th>236</th>\n",
       "      <td>Biscoe</td>\n",
       "      <td>42.0</td>\n",
       "      <td>13.5</td>\n",
       "      <td>210.0</td>\n",
       "      <td>4150.0</td>\n",
       "      <td>FEMALE</td>\n",
       "    </tr>\n",
       "    <tr>\n",
       "      <th>284</th>\n",
       "      <td>Biscoe</td>\n",
       "      <td>45.8</td>\n",
       "      <td>14.2</td>\n",
       "      <td>219.0</td>\n",
       "      <td>4700.0</td>\n",
       "      <td>FEMALE</td>\n",
       "    </tr>\n",
       "    <tr>\n",
       "      <th>22</th>\n",
       "      <td>Biscoe</td>\n",
       "      <td>35.9</td>\n",
       "      <td>19.2</td>\n",
       "      <td>189.0</td>\n",
       "      <td>3800.0</td>\n",
       "      <td>FEMALE</td>\n",
       "    </tr>\n",
       "    <tr>\n",
       "      <th>140</th>\n",
       "      <td>Dream</td>\n",
       "      <td>40.2</td>\n",
       "      <td>17.1</td>\n",
       "      <td>193.0</td>\n",
       "      <td>3400.0</td>\n",
       "      <td>FEMALE</td>\n",
       "    </tr>\n",
       "  </tbody>\n",
       "</table>\n",
       "</div>"
      ],
      "text/plain": [
       "     island  bill_length_mm  bill_depth_mm  flipper_length_mm  body_mass_g  \\\n",
       "313  Biscoe            49.5           16.1              224.0       5650.0   \n",
       "236  Biscoe            42.0           13.5              210.0       4150.0   \n",
       "284  Biscoe            45.8           14.2              219.0       4700.0   \n",
       "22   Biscoe            35.9           19.2              189.0       3800.0   \n",
       "140   Dream            40.2           17.1              193.0       3400.0   \n",
       "\n",
       "        sex  \n",
       "313    MALE  \n",
       "236  FEMALE  \n",
       "284  FEMALE  \n",
       "22   FEMALE  \n",
       "140  FEMALE  "
      ]
     },
     "execution_count": 8,
     "metadata": {},
     "output_type": "execute_result"
    }
   ],
   "source": [
    "X_train.head()"
   ]
  },
  {
   "cell_type": "code",
   "execution_count": 9,
   "metadata": {},
   "outputs": [
    {
     "data": {
      "text/plain": [
       "Biscoe       118\n",
       "Dream         93\n",
       "Torgersen     38\n",
       "Name: island, dtype: int64"
      ]
     },
     "execution_count": 9,
     "metadata": {},
     "output_type": "execute_result"
    }
   ],
   "source": [
    "X_train[\"island\"].value_counts()"
   ]
  },
  {
   "cell_type": "code",
   "execution_count": 10,
   "metadata": {},
   "outputs": [
    {
     "data": {
      "text/plain": [
       "MALE      133\n",
       "FEMALE    116\n",
       "Name: sex, dtype: int64"
      ]
     },
     "execution_count": 10,
     "metadata": {},
     "output_type": "execute_result"
    }
   ],
   "source": [
    "X_train[\"sex\"].value_counts()"
   ]
  },
  {
   "cell_type": "code",
   "execution_count": 11,
   "metadata": {},
   "outputs": [
    {
     "name": "stdout",
     "output_type": "stream",
     "text": [
      "['island', 'sex']\n",
      "['bill_length_mm', 'bill_depth_mm', 'flipper_length_mm', 'body_mass_g']\n",
      "['island', 'bill_length_mm', 'bill_depth_mm', 'flipper_length_mm', 'body_mass_g', 'sex']\n"
     ]
    }
   ],
   "source": [
    "all_features = X.columns.tolist()\n",
    "\n",
    "categorical_features = [c for c in all_features if X_train[c].dtype == 'object']\n",
    "\n",
    "numeric_features = [c for c in all_features if X_train[c].dtype != 'object']\n",
    "\n",
    "print(categorical_features)\n",
    "print(numeric_features)\n",
    "print(all_features)"
   ]
  },
  {
   "cell_type": "code",
   "execution_count": 12,
   "metadata": {},
   "outputs": [],
   "source": [
    "# tratamiento diferencial para distintas variables\n",
    "\n",
    "preprocessor = ColumnTransformer([\n",
    "    # (name, transformer, columns)\n",
    "    (\"cat\", OneHotEncoder(handle_unknown=\"ignore\"), categorical_features),\n",
    "    (\"num\", \"passthrough\", numeric_features),\n",
    "], remainder=\"passthrough\")\n",
    "\n",
    "    # un transformer puede ser un pipeline!"
   ]
  },
  {
   "cell_type": "code",
   "execution_count": 13,
   "metadata": {},
   "outputs": [],
   "source": [
    "pipe = Pipeline([\n",
    "    (\"preprocessor\", preprocessor), \n",
    "    (\"scaler\", MinMaxScaler()),\n",
    "    (\"clf\", KNeighborsClassifier(n_neighbors=5, weights='uniform', metric='manhattan')),\n",
    "])"
   ]
  },
  {
   "cell_type": "code",
   "execution_count": 14,
   "metadata": {},
   "outputs": [
    {
     "data": {
      "text/html": [
       "<style>#sk-dc5adc1d-56e0-4ff2-b5aa-42cfde726fe0 {color: black;background-color: white;}#sk-dc5adc1d-56e0-4ff2-b5aa-42cfde726fe0 pre{padding: 0;}#sk-dc5adc1d-56e0-4ff2-b5aa-42cfde726fe0 div.sk-toggleable {background-color: white;}#sk-dc5adc1d-56e0-4ff2-b5aa-42cfde726fe0 label.sk-toggleable__label {cursor: pointer;display: block;width: 100%;margin-bottom: 0;padding: 0.3em;box-sizing: border-box;text-align: center;}#sk-dc5adc1d-56e0-4ff2-b5aa-42cfde726fe0 label.sk-toggleable__label-arrow:before {content: \"▸\";float: left;margin-right: 0.25em;color: #696969;}#sk-dc5adc1d-56e0-4ff2-b5aa-42cfde726fe0 label.sk-toggleable__label-arrow:hover:before {color: black;}#sk-dc5adc1d-56e0-4ff2-b5aa-42cfde726fe0 div.sk-estimator:hover label.sk-toggleable__label-arrow:before {color: black;}#sk-dc5adc1d-56e0-4ff2-b5aa-42cfde726fe0 div.sk-toggleable__content {max-height: 0;max-width: 0;overflow: hidden;text-align: left;background-color: #f0f8ff;}#sk-dc5adc1d-56e0-4ff2-b5aa-42cfde726fe0 div.sk-toggleable__content pre {margin: 0.2em;color: black;border-radius: 0.25em;background-color: #f0f8ff;}#sk-dc5adc1d-56e0-4ff2-b5aa-42cfde726fe0 input.sk-toggleable__control:checked~div.sk-toggleable__content {max-height: 200px;max-width: 100%;overflow: auto;}#sk-dc5adc1d-56e0-4ff2-b5aa-42cfde726fe0 input.sk-toggleable__control:checked~label.sk-toggleable__label-arrow:before {content: \"▾\";}#sk-dc5adc1d-56e0-4ff2-b5aa-42cfde726fe0 div.sk-estimator input.sk-toggleable__control:checked~label.sk-toggleable__label {background-color: #d4ebff;}#sk-dc5adc1d-56e0-4ff2-b5aa-42cfde726fe0 div.sk-label input.sk-toggleable__control:checked~label.sk-toggleable__label {background-color: #d4ebff;}#sk-dc5adc1d-56e0-4ff2-b5aa-42cfde726fe0 input.sk-hidden--visually {border: 0;clip: rect(1px 1px 1px 1px);clip: rect(1px, 1px, 1px, 1px);height: 1px;margin: -1px;overflow: hidden;padding: 0;position: absolute;width: 1px;}#sk-dc5adc1d-56e0-4ff2-b5aa-42cfde726fe0 div.sk-estimator {font-family: monospace;background-color: #f0f8ff;border: 1px dotted black;border-radius: 0.25em;box-sizing: border-box;margin-bottom: 0.5em;}#sk-dc5adc1d-56e0-4ff2-b5aa-42cfde726fe0 div.sk-estimator:hover {background-color: #d4ebff;}#sk-dc5adc1d-56e0-4ff2-b5aa-42cfde726fe0 div.sk-parallel-item::after {content: \"\";width: 100%;border-bottom: 1px solid gray;flex-grow: 1;}#sk-dc5adc1d-56e0-4ff2-b5aa-42cfde726fe0 div.sk-label:hover label.sk-toggleable__label {background-color: #d4ebff;}#sk-dc5adc1d-56e0-4ff2-b5aa-42cfde726fe0 div.sk-serial::before {content: \"\";position: absolute;border-left: 1px solid gray;box-sizing: border-box;top: 2em;bottom: 0;left: 50%;}#sk-dc5adc1d-56e0-4ff2-b5aa-42cfde726fe0 div.sk-serial {display: flex;flex-direction: column;align-items: center;background-color: white;padding-right: 0.2em;padding-left: 0.2em;}#sk-dc5adc1d-56e0-4ff2-b5aa-42cfde726fe0 div.sk-item {z-index: 1;}#sk-dc5adc1d-56e0-4ff2-b5aa-42cfde726fe0 div.sk-parallel {display: flex;align-items: stretch;justify-content: center;background-color: white;}#sk-dc5adc1d-56e0-4ff2-b5aa-42cfde726fe0 div.sk-parallel::before {content: \"\";position: absolute;border-left: 1px solid gray;box-sizing: border-box;top: 2em;bottom: 0;left: 50%;}#sk-dc5adc1d-56e0-4ff2-b5aa-42cfde726fe0 div.sk-parallel-item {display: flex;flex-direction: column;position: relative;background-color: white;}#sk-dc5adc1d-56e0-4ff2-b5aa-42cfde726fe0 div.sk-parallel-item:first-child::after {align-self: flex-end;width: 50%;}#sk-dc5adc1d-56e0-4ff2-b5aa-42cfde726fe0 div.sk-parallel-item:last-child::after {align-self: flex-start;width: 50%;}#sk-dc5adc1d-56e0-4ff2-b5aa-42cfde726fe0 div.sk-parallel-item:only-child::after {width: 0;}#sk-dc5adc1d-56e0-4ff2-b5aa-42cfde726fe0 div.sk-dashed-wrapped {border: 1px dashed gray;margin: 0 0.4em 0.5em 0.4em;box-sizing: border-box;padding-bottom: 0.4em;background-color: white;position: relative;}#sk-dc5adc1d-56e0-4ff2-b5aa-42cfde726fe0 div.sk-label label {font-family: monospace;font-weight: bold;background-color: white;display: inline-block;line-height: 1.2em;}#sk-dc5adc1d-56e0-4ff2-b5aa-42cfde726fe0 div.sk-label-container {position: relative;z-index: 2;text-align: center;}#sk-dc5adc1d-56e0-4ff2-b5aa-42cfde726fe0 div.sk-container {/* jupyter's `normalize.less` sets `[hidden] { display: none; }` but bootstrap.min.css set `[hidden] { display: none !important; }` so we also need the `!important` here to be able to override the default hidden behavior on the sphinx rendered scikit-learn.org. See: https://github.com/scikit-learn/scikit-learn/issues/21755 */display: inline-block !important;position: relative;}#sk-dc5adc1d-56e0-4ff2-b5aa-42cfde726fe0 div.sk-text-repr-fallback {display: none;}</style><div id=\"sk-dc5adc1d-56e0-4ff2-b5aa-42cfde726fe0\" class=\"sk-top-container\"><div class=\"sk-text-repr-fallback\"><pre>Pipeline(steps=[(&#x27;preprocessor&#x27;,\n",
       "                 ColumnTransformer(transformers=[(&#x27;cat&#x27;,\n",
       "                                                  OneHotEncoder(handle_unknown=&#x27;ignore&#x27;),\n",
       "                                                  [&#x27;island&#x27;, &#x27;sex&#x27;]),\n",
       "                                                 (&#x27;num&#x27;, &#x27;passthrough&#x27;,\n",
       "                                                  [&#x27;bill_length_mm&#x27;,\n",
       "                                                   &#x27;bill_depth_mm&#x27;,\n",
       "                                                   &#x27;flipper_length_mm&#x27;,\n",
       "                                                   &#x27;body_mass_g&#x27;])])),\n",
       "                (&#x27;scaler&#x27;, MinMaxScaler()),\n",
       "                (&#x27;clf&#x27;, KNeighborsClassifier(metric=&#x27;manhattan&#x27;))])</pre><b>Please rerun this cell to show the HTML repr or trust the notebook.</b></div><div class=\"sk-container\" hidden><div class=\"sk-item sk-dashed-wrapped\"><div class=\"sk-label-container\"><div class=\"sk-label sk-toggleable\"><input class=\"sk-toggleable__control sk-hidden--visually\" id=\"83fcf360-b8d0-4a59-a61c-e9a8b4244fb0\" type=\"checkbox\" ><label for=\"83fcf360-b8d0-4a59-a61c-e9a8b4244fb0\" class=\"sk-toggleable__label sk-toggleable__label-arrow\">Pipeline</label><div class=\"sk-toggleable__content\"><pre>Pipeline(steps=[(&#x27;preprocessor&#x27;,\n",
       "                 ColumnTransformer(transformers=[(&#x27;cat&#x27;,\n",
       "                                                  OneHotEncoder(handle_unknown=&#x27;ignore&#x27;),\n",
       "                                                  [&#x27;island&#x27;, &#x27;sex&#x27;]),\n",
       "                                                 (&#x27;num&#x27;, &#x27;passthrough&#x27;,\n",
       "                                                  [&#x27;bill_length_mm&#x27;,\n",
       "                                                   &#x27;bill_depth_mm&#x27;,\n",
       "                                                   &#x27;flipper_length_mm&#x27;,\n",
       "                                                   &#x27;body_mass_g&#x27;])])),\n",
       "                (&#x27;scaler&#x27;, MinMaxScaler()),\n",
       "                (&#x27;clf&#x27;, KNeighborsClassifier(metric=&#x27;manhattan&#x27;))])</pre></div></div></div><div class=\"sk-serial\"><div class=\"sk-item sk-dashed-wrapped\"><div class=\"sk-label-container\"><div class=\"sk-label sk-toggleable\"><input class=\"sk-toggleable__control sk-hidden--visually\" id=\"cfc59aed-09ea-4b6e-8ac0-fff542311c30\" type=\"checkbox\" ><label for=\"cfc59aed-09ea-4b6e-8ac0-fff542311c30\" class=\"sk-toggleable__label sk-toggleable__label-arrow\">preprocessor: ColumnTransformer</label><div class=\"sk-toggleable__content\"><pre>ColumnTransformer(transformers=[(&#x27;cat&#x27;, OneHotEncoder(handle_unknown=&#x27;ignore&#x27;),\n",
       "                                 [&#x27;island&#x27;, &#x27;sex&#x27;]),\n",
       "                                (&#x27;num&#x27;, &#x27;passthrough&#x27;,\n",
       "                                 [&#x27;bill_length_mm&#x27;, &#x27;bill_depth_mm&#x27;,\n",
       "                                  &#x27;flipper_length_mm&#x27;, &#x27;body_mass_g&#x27;])])</pre></div></div></div><div class=\"sk-parallel\"><div class=\"sk-parallel-item\"><div class=\"sk-item\"><div class=\"sk-label-container\"><div class=\"sk-label sk-toggleable\"><input class=\"sk-toggleable__control sk-hidden--visually\" id=\"aa019e6c-c199-4022-842a-23c2df165c44\" type=\"checkbox\" ><label for=\"aa019e6c-c199-4022-842a-23c2df165c44\" class=\"sk-toggleable__label sk-toggleable__label-arrow\">cat</label><div class=\"sk-toggleable__content\"><pre>[&#x27;island&#x27;, &#x27;sex&#x27;]</pre></div></div></div><div class=\"sk-serial\"><div class=\"sk-item\"><div class=\"sk-estimator sk-toggleable\"><input class=\"sk-toggleable__control sk-hidden--visually\" id=\"4ebaab41-7c88-4c57-af06-ee07c251bbab\" type=\"checkbox\" ><label for=\"4ebaab41-7c88-4c57-af06-ee07c251bbab\" class=\"sk-toggleable__label sk-toggleable__label-arrow\">OneHotEncoder</label><div class=\"sk-toggleable__content\"><pre>OneHotEncoder(handle_unknown=&#x27;ignore&#x27;)</pre></div></div></div></div></div></div><div class=\"sk-parallel-item\"><div class=\"sk-item\"><div class=\"sk-label-container\"><div class=\"sk-label sk-toggleable\"><input class=\"sk-toggleable__control sk-hidden--visually\" id=\"8f069235-bb60-428d-9b8c-3acd42281d77\" type=\"checkbox\" ><label for=\"8f069235-bb60-428d-9b8c-3acd42281d77\" class=\"sk-toggleable__label sk-toggleable__label-arrow\">num</label><div class=\"sk-toggleable__content\"><pre>[&#x27;bill_length_mm&#x27;, &#x27;bill_depth_mm&#x27;, &#x27;flipper_length_mm&#x27;, &#x27;body_mass_g&#x27;]</pre></div></div></div><div class=\"sk-serial\"><div class=\"sk-item\"><div class=\"sk-estimator sk-toggleable\"><input class=\"sk-toggleable__control sk-hidden--visually\" id=\"f2d7adc7-0613-4b0a-a73e-c54449360977\" type=\"checkbox\" ><label for=\"f2d7adc7-0613-4b0a-a73e-c54449360977\" class=\"sk-toggleable__label sk-toggleable__label-arrow\">passthrough</label><div class=\"sk-toggleable__content\"><pre>passthrough</pre></div></div></div></div></div></div></div></div><div class=\"sk-item\"><div class=\"sk-estimator sk-toggleable\"><input class=\"sk-toggleable__control sk-hidden--visually\" id=\"3ace8303-8edd-438b-bb7b-5756a58e778b\" type=\"checkbox\" ><label for=\"3ace8303-8edd-438b-bb7b-5756a58e778b\" class=\"sk-toggleable__label sk-toggleable__label-arrow\">MinMaxScaler</label><div class=\"sk-toggleable__content\"><pre>MinMaxScaler()</pre></div></div></div><div class=\"sk-item\"><div class=\"sk-estimator sk-toggleable\"><input class=\"sk-toggleable__control sk-hidden--visually\" id=\"6c277de7-1c76-465a-8457-fa2c32432277\" type=\"checkbox\" ><label for=\"6c277de7-1c76-465a-8457-fa2c32432277\" class=\"sk-toggleable__label sk-toggleable__label-arrow\">KNeighborsClassifier</label><div class=\"sk-toggleable__content\"><pre>KNeighborsClassifier(metric=&#x27;manhattan&#x27;)</pre></div></div></div></div></div></div></div>"
      ],
      "text/plain": [
       "Pipeline(steps=[('preprocessor',\n",
       "                 ColumnTransformer(transformers=[('cat',\n",
       "                                                  OneHotEncoder(handle_unknown='ignore'),\n",
       "                                                  ['island', 'sex']),\n",
       "                                                 ('num', 'passthrough',\n",
       "                                                  ['bill_length_mm',\n",
       "                                                   'bill_depth_mm',\n",
       "                                                   'flipper_length_mm',\n",
       "                                                   'body_mass_g'])])),\n",
       "                ('scaler', MinMaxScaler()),\n",
       "                ('clf', KNeighborsClassifier(metric='manhattan'))])"
      ]
     },
     "execution_count": 14,
     "metadata": {},
     "output_type": "execute_result"
    }
   ],
   "source": [
    "set_config(display=\"diagram\")\n",
    "pipe"
   ]
  },
  {
   "cell_type": "code",
   "execution_count": 15,
   "metadata": {},
   "outputs": [],
   "source": [
    "set_config(display=\"text\")\n",
    "_ = pipe.fit(X_train, y_train)"
   ]
  },
  {
   "cell_type": "code",
   "execution_count": 35,
   "metadata": {},
   "outputs": [
    {
     "data": {
      "text/plain": [
       "array([   0. ,    0. ,    0. ,    0. ,    0. ,   33.1,   13.1,  172. ,\n",
       "       2700. ])"
      ]
     },
     "execution_count": 35,
     "metadata": {},
     "output_type": "execute_result"
    }
   ],
   "source": [
    "pipe.named_steps.scaler.data_min_"
   ]
  },
  {
   "cell_type": "code",
   "execution_count": 38,
   "metadata": {},
   "outputs": [
    {
     "data": {
      "text/plain": [
       "array(['cat__island_Biscoe', 'cat__island_Dream', 'cat__island_Torgersen',\n",
       "       'cat__sex_FEMALE', 'cat__sex_MALE', 'num__bill_length_mm',\n",
       "       'num__bill_depth_mm', 'num__flipper_length_mm', 'num__body_mass_g'],\n",
       "      dtype=object)"
      ]
     },
     "execution_count": 38,
     "metadata": {},
     "output_type": "execute_result"
    }
   ],
   "source": [
    "pipe[:-1].get_feature_names_out() "
   ]
  },
  {
   "cell_type": "code",
   "execution_count": 17,
   "metadata": {},
   "outputs": [
    {
     "data": {
      "text/plain": [
       "[array(['Biscoe', 'Dream', 'Torgersen'], dtype=object),\n",
       " array(['FEMALE', 'MALE'], dtype=object)]"
      ]
     },
     "execution_count": 17,
     "metadata": {},
     "output_type": "execute_result"
    }
   ],
   "source": [
    "preprocessor.named_transformers_.cat.categories_"
   ]
  },
  {
   "cell_type": "code",
   "execution_count": 18,
   "metadata": {},
   "outputs": [
    {
     "data": {
      "text/plain": [
       "array([[ 0.        ,  1.        ,  0.        ,  0.        ,  1.        ,\n",
       "         0.6       ,  0.77380952,  0.6779661 ,  0.44444444],\n",
       "       [ 1.        ,  0.        ,  0.        ,  1.        ,  0.        ,\n",
       "         0.45283019,  0.1547619 ,  0.6440678 ,  0.47222222],\n",
       "       [ 0.        ,  0.        ,  1.        ,  1.        ,  0.        ,\n",
       "         0.24150943,  0.51190476,  0.23728814,  0.30555556],\n",
       "       [ 1.        ,  0.        ,  0.        ,  1.        ,  0.        ,\n",
       "         0.54339623,  0.10714286,  0.6779661 ,  0.60416667],\n",
       "       [ 1.        ,  0.        ,  0.        ,  1.        ,  0.        ,\n",
       "         0.50943396,  0.13095238,  0.6440678 ,  0.59722222],\n",
       "       [ 0.        ,  0.        ,  1.        ,  1.        ,  0.        ,\n",
       "         0.10566038,  0.41666667,  0.30508475,  0.09722222],\n",
       "       [ 1.        ,  0.        ,  0.        ,  0.        ,  1.        ,\n",
       "         0.4490566 ,  0.27380952,  0.81355932,  0.65277778],\n",
       "       [ 0.        ,  1.        ,  0.        ,  0.        ,  1.        ,\n",
       "         0.30188679,  0.5952381 ,  0.55932203,  0.44444444],\n",
       "       [ 0.        ,  1.        ,  0.        ,  0.        ,  1.        ,\n",
       "         0.66415094,  0.78571429,  0.52542373,  0.375     ],\n",
       "       [ 0.        ,  1.        ,  0.        ,  0.        ,  1.        ,\n",
       "         0.79622642,  0.91666667,  0.49152542,  0.44444444],\n",
       "       [ 1.        ,  0.        ,  0.        ,  1.        ,  0.        ,\n",
       "         0.50566038,  0.1547619 ,  0.76271186,  0.61111111],\n",
       "       [ 0.        ,  1.        ,  0.        ,  1.        ,  0.        ,\n",
       "         0.56603774,  0.39285714,  0.45762712,  0.17361111],\n",
       "       [ 0.        ,  1.        ,  0.        ,  0.        ,  1.        ,\n",
       "         0.60754717,  0.60714286,  0.38983051,  0.47222222],\n",
       "       [ 0.        ,  0.        ,  1.        ,  0.        ,  1.        ,\n",
       "         0.23396226,  0.89285714,  0.30508475,  0.26388889],\n",
       "       [ 1.        ,  0.        ,  0.        ,  1.        ,  0.        ,\n",
       "         0.65660377,  0.25      ,  0.74576271,  0.63888889],\n",
       "       [ 1.        ,  0.        ,  0.        ,  0.        ,  1.        ,\n",
       "         0.73207547,  0.29761905,  0.83050847,  0.76388889],\n",
       "       [ 1.        ,  0.        ,  0.        ,  1.        ,  0.        ,\n",
       "         0.39245283,  0.25      ,  0.69491525,  0.54166667],\n",
       "       [ 1.        ,  0.        ,  0.        ,  0.        ,  1.        ,\n",
       "         0.50188679,  0.29761905,  0.83050847,  0.63888889],\n",
       "       [ 1.        ,  0.        ,  0.        ,  0.        ,  1.        ,\n",
       "         0.66792453,  0.30952381,  0.91525424,  0.69444444],\n",
       "       [ 0.        ,  0.        ,  1.        ,  1.        ,  0.        ,\n",
       "         0.01509434,  0.70238095,  0.30508475,  0.25      ],\n",
       "       [ 1.        ,  0.        ,  0.        ,  0.        ,  1.        ,\n",
       "         0.29811321,  0.82142857,  0.52542373,  0.5625    ],\n",
       "       [ 1.        ,  0.        ,  0.        ,  0.        ,  1.        ,\n",
       "         0.59245283,  0.36904762,  0.84745763,  0.91666667],\n",
       "       [ 1.        ,  0.        ,  0.        ,  1.        ,  0.        ,\n",
       "         0.3245283 ,  0.19047619,  0.6440678 ,  0.55555556],\n",
       "       [ 0.        ,  1.        ,  0.        ,  1.        ,  0.        ,\n",
       "         0.46792453,  0.46428571,  0.40677966,  0.22222222],\n",
       "       [ 1.        ,  0.        ,  0.        ,  1.        ,  0.        ,\n",
       "         0.54339623,  0.22619048,  0.77966102,  0.625     ],\n",
       "       [ 0.        ,  1.        ,  0.        ,  1.        ,  0.        ,\n",
       "         0.10943396,  0.57142857,  0.30508475,  0.20833333],\n",
       "       [ 0.        ,  1.        ,  0.        ,  1.        ,  0.        ,\n",
       "        -0.03773585,  0.28571429,  0.27118644,  0.09722222],\n",
       "       [ 0.        ,  1.        ,  0.        ,  1.        ,  0.        ,\n",
       "         0.49056604,  0.60714286,  0.10169492,  0.15277778],\n",
       "       [ 1.        ,  0.        ,  0.        ,  1.        ,  0.        ,\n",
       "         0.57735849,  0.1547619 ,  0.52542373,  0.53472222],\n",
       "       [ 1.        ,  0.        ,  0.        ,  0.        ,  1.        ,\n",
       "         0.57735849,  0.38095238,  0.81355932,  0.75      ],\n",
       "       [ 1.        ,  0.        ,  0.        ,  1.        ,  0.        ,\n",
       "         0.40377358,  0.0952381 ,  0.61016949,  0.44444444],\n",
       "       [ 0.        ,  1.        ,  0.        ,  1.        ,  0.        ,\n",
       "         0.10943396,  0.47619048,  0.25423729,  0.27777778],\n",
       "       [ 0.        ,  0.        ,  1.        ,  1.        ,  0.        ,\n",
       "         0.29433962,  0.44047619,  0.3220339 ,  0.27777778],\n",
       "       [ 1.        ,  0.        ,  0.        ,  0.        ,  1.        ,\n",
       "         0.61886792,  0.36904762,  0.96610169,  0.86111111],\n",
       "       [ 0.        ,  1.        ,  0.        ,  1.        ,  0.        ,\n",
       "         0.12830189,  0.58333333,  0.16949153,  0.125     ],\n",
       "       [ 1.        ,  0.        ,  0.        ,  1.        ,  0.        ,\n",
       "         0.4754717 ,  0.0952381 ,  0.71186441,  0.47222222],\n",
       "       [ 0.        ,  1.        ,  0.        ,  0.        ,  1.        ,\n",
       "         0.61886792,  0.70238095,  0.47457627,  0.30555556],\n",
       "       [ 1.        ,  0.        ,  0.        ,  1.        ,  0.        ,\n",
       "         0.45660377,  0.20238095,  0.6779661 ,  0.69444444],\n",
       "       [ 1.        ,  0.        ,  0.        ,  0.        ,  1.        ,\n",
       "         0.64150943,  0.22619048,  0.89830508,  0.63888889],\n",
       "       [ 1.        ,  0.        ,  0.        ,  1.        ,  0.        ,\n",
       "         0.38490566,  0.10714286,  0.61016949,  0.52083333],\n",
       "       [ 1.        ,  0.        ,  0.        ,  0.        ,  1.        ,\n",
       "         0.55471698,  0.22619048,  0.72881356,  0.81944444],\n",
       "       [ 0.        ,  1.        ,  0.        ,  1.        ,  0.        ,\n",
       "         0.50188679,  0.6547619 ,  0.30508475,  0.20833333],\n",
       "       [ 1.        ,  0.        ,  0.        ,  0.        ,  1.        ,\n",
       "         0.58490566,  0.3452381 ,  0.98305085,  0.86111111],\n",
       "       [ 1.        ,  0.        ,  0.        ,  0.        ,  1.        ,\n",
       "         0.19245283,  0.82142857,  0.30508475,  0.33333333],\n",
       "       [ 0.        ,  1.        ,  0.        ,  1.        ,  0.        ,\n",
       "         0.47169811,  0.75      ,  0.37288136,  0.22916667],\n",
       "       [ 1.        ,  0.        ,  0.        ,  1.        ,  0.        ,\n",
       "         0.36226415,  0.07142857,  0.61016949,  0.34722222],\n",
       "       [ 0.        ,  1.        ,  0.        ,  1.        ,  0.        ,\n",
       "         0.54716981,  0.61904762,  0.38983051,  0.31944444],\n",
       "       [ 0.        ,  0.        ,  1.        ,  0.        ,  1.        ,\n",
       "         0.36603774,  0.64285714,  0.38983051,  0.43055556],\n",
       "       [ 0.        ,  1.        ,  0.        ,  0.        ,  1.        ,\n",
       "         0.70188679,  0.85714286,  0.37288136,  0.29861111],\n",
       "       [ 0.        ,  1.        ,  0.        ,  1.        ,  0.        ,\n",
       "         0.13962264,  0.64285714,  0.3559322 ,  0.22222222],\n",
       "       [ 0.        ,  0.        ,  1.        ,  1.        ,  0.        ,\n",
       "         0.21132075,  0.70238095,  0.38983051,  0.20833333],\n",
       "       [ 0.        ,  1.        ,  0.        ,  0.        ,  1.        ,\n",
       "         0.66037736,  0.75      ,  0.3559322 ,  0.30555556],\n",
       "       [ 1.        ,  0.        ,  0.        ,  0.        ,  1.        ,\n",
       "         0.86037736,  0.46428571,  0.94915254,  0.80555556],\n",
       "       [ 1.        ,  0.        ,  0.        ,  0.        ,  1.        ,\n",
       "         0.66792453,  0.5       ,  0.94915254,  0.80555556],\n",
       "       [ 0.        ,  1.        ,  0.        ,  1.        ,  0.        ,\n",
       "         0.10943396,  0.55952381,  0.38983051,  0.20833333],\n",
       "       [ 1.        ,  0.        ,  0.        ,  1.        ,  0.        ,\n",
       "         0.12830189,  0.41666667,  0.15254237,  0.04166667],\n",
       "       [ 1.        ,  0.        ,  0.        ,  1.        ,  0.        ,\n",
       "         0.39622642,  0.0952381 ,  0.76271186,  0.61111111],\n",
       "       [ 1.        ,  0.        ,  0.        ,  1.        ,  0.        ,\n",
       "         0.46792453,  0.16666667,  0.6779661 ,  0.56944444],\n",
       "       [ 0.        ,  1.        ,  0.        ,  1.        ,  0.        ,\n",
       "         0.3509434 ,  0.5       ,  0.15254237,  0.25      ],\n",
       "       [ 1.        ,  0.        ,  0.        ,  0.        ,  1.        ,\n",
       "         0.53584906,  0.26190476,  0.84745763,  0.70833333],\n",
       "       [ 0.        ,  1.        ,  0.        ,  0.        ,  1.        ,\n",
       "         0.28679245,  0.46428571,  0.30508475,  0.28472222],\n",
       "       [ 1.        ,  0.        ,  0.        ,  0.        ,  1.        ,\n",
       "         0.69433962,  0.38095238,  0.98305085,  0.77777778],\n",
       "       [ 1.        ,  0.        ,  0.        ,  1.        ,  0.        ,\n",
       "         0.36603774,  0.13095238,  0.62711864,  0.55555556],\n",
       "       [ 1.        ,  0.        ,  0.        ,  1.        ,  0.        ,\n",
       "         0.50566038,  0.20238095,  0.76271186,  0.69444444],\n",
       "       [ 1.        ,  0.        ,  0.        ,  0.        ,  1.        ,\n",
       "         0.65660377,  0.33333333,  0.89830508,  0.75      ],\n",
       "       [ 1.        ,  0.        ,  0.        ,  1.        ,  0.        ,\n",
       "         0.17358491,  0.3452381 ,  0.18644068,  0.10416667],\n",
       "       [ 0.        ,  1.        ,  0.        ,  0.        ,  1.        ,\n",
       "         0.31698113,  0.64285714,  0.49152542,  0.36111111],\n",
       "       [ 0.        ,  1.        ,  0.        ,  0.        ,  1.        ,\n",
       "         0.17735849,  0.5952381 ,  0.3559322 ,  0.29166667],\n",
       "       [ 1.        ,  0.        ,  0.        ,  1.        ,  0.        ,\n",
       "         0.16981132,  0.46428571,  0.22033898,  0.25      ],\n",
       "       [ 0.        ,  0.        ,  1.        ,  1.        ,  0.        ,\n",
       "         0.09811321,  0.46428571,  0.28813559,  0.18055556],\n",
       "       [ 0.        ,  1.        ,  0.        ,  0.        ,  1.        ,\n",
       "         0.64528302,  0.67857143,  0.50847458,  0.30555556],\n",
       "       [ 0.        ,  1.        ,  0.        ,  1.        ,  0.        ,\n",
       "         0.1245283 ,  0.46428571,  0.38983051,  0.17361111],\n",
       "       [ 0.        ,  0.        ,  1.        ,  0.        ,  1.        ,\n",
       "         0.41509434,  0.58333333,  0.6440678 ,  0.36111111],\n",
       "       [ 1.        ,  0.        ,  0.        ,  1.        ,  0.        ,\n",
       "         0.1245283 ,  0.47619048,  0.20338983,  0.04166667],\n",
       "       [ 1.        ,  0.        ,  0.        ,  1.        ,  0.        ,\n",
       "         0.17735849,  0.61904762,  0.03389831,  0.19444444],\n",
       "       [ 1.        ,  0.        ,  0.        ,  0.        ,  1.        ,\n",
       "         0.32075472,  0.58333333,  0.33898305,  0.34722222],\n",
       "       [ 1.        ,  0.        ,  0.        ,  0.        ,  1.        ,\n",
       "         0.58867925,  0.23809524,  0.84745763,  0.73611111],\n",
       "       [ 1.        ,  0.        ,  0.        ,  1.        ,  0.        ,\n",
       "         0.09811321,  0.45238095,  0.22033898,  0.125     ],\n",
       "       [ 0.        ,  1.        ,  0.        ,  1.        ,  0.        ,\n",
       "         0.14339623,  0.6547619 ,  0.28813559,  0.22222222],\n",
       "       [ 1.        ,  0.        ,  0.        ,  0.        ,  1.        ,\n",
       "         0.63396226,  0.35714286,  0.69491525,  0.75      ],\n",
       "       [ 1.        ,  0.        ,  0.        ,  1.        ,  0.        ,\n",
       "         0.22264151,  0.52380952,  0.23728814,  0.23611111],\n",
       "       [ 0.        ,  1.        ,  0.        ,  1.        ,  0.        ,\n",
       "         0.50188679,  0.55952381,  0.3220339 ,  0.27777778],\n",
       "       [ 0.        ,  1.        ,  0.        ,  1.        ,  0.        ,\n",
       "         0.64528302,  0.66666667,  0.44067797,  0.29861111],\n",
       "       [ 0.        ,  1.        ,  0.        ,  1.        ,  0.        ,\n",
       "         0.35471698,  0.42857143,  0.25423729,  0.18055556]])"
      ]
     },
     "execution_count": 18,
     "metadata": {},
     "output_type": "execute_result"
    }
   ],
   "source": [
    "pipe[:-1].transform(X_val)"
   ]
  },
  {
   "cell_type": "markdown",
   "metadata": {},
   "source": [
    "### Predict"
   ]
  },
  {
   "cell_type": "code",
   "execution_count": 19,
   "metadata": {},
   "outputs": [],
   "source": [
    "y_val_pred = pipe.predict(X_val)"
   ]
  },
  {
   "cell_type": "code",
   "execution_count": 39,
   "metadata": {},
   "outputs": [
    {
     "name": "stdout",
     "output_type": "stream",
     "text": [
      "['Chinstrap' 'Gentoo' 'Adelie' 'Gentoo' 'Gentoo']\n",
      "199    Chinstrap\n",
      "272       Gentoo\n",
      "1         Adelie\n",
      "308       Gentoo\n",
      "270       Gentoo\n",
      "Name: species, dtype: object\n"
     ]
    }
   ],
   "source": [
    "print(y_val_pred[:5])\n",
    "print(y_val[:5])\n"
   ]
  },
  {
   "cell_type": "code",
   "execution_count": 21,
   "metadata": {},
   "outputs": [
    {
     "data": {
      "text/plain": [
       "1.0"
      ]
     },
     "execution_count": 21,
     "metadata": {},
     "output_type": "execute_result"
    }
   ],
   "source": [
    "accuracy_score(y_val, y_val_pred)"
   ]
  },
  {
   "cell_type": "code",
   "execution_count": 22,
   "metadata": {},
   "outputs": [
    {
     "name": "stdout",
     "output_type": "stream",
     "text": [
      "[[31  0  0]\n",
      " [ 0 18  0]\n",
      " [ 0  0 35]]\n"
     ]
    }
   ],
   "source": [
    "print(confusion_matrix(y_val, y_val_pred))"
   ]
  },
  {
   "cell_type": "code",
   "execution_count": 23,
   "metadata": {},
   "outputs": [
    {
     "data": {
      "text/html": [
       "<div>\n",
       "<style scoped>\n",
       "    .dataframe tbody tr th:only-of-type {\n",
       "        vertical-align: middle;\n",
       "    }\n",
       "\n",
       "    .dataframe tbody tr th {\n",
       "        vertical-align: top;\n",
       "    }\n",
       "\n",
       "    .dataframe thead th {\n",
       "        text-align: right;\n",
       "    }\n",
       "</style>\n",
       "<table border=\"1\" class=\"dataframe\">\n",
       "  <thead>\n",
       "    <tr style=\"text-align: right;\">\n",
       "      <th></th>\n",
       "      <th>island</th>\n",
       "      <th>bill_length_mm</th>\n",
       "      <th>bill_depth_mm</th>\n",
       "      <th>flipper_length_mm</th>\n",
       "      <th>body_mass_g</th>\n",
       "      <th>sex</th>\n",
       "    </tr>\n",
       "  </thead>\n",
       "  <tbody>\n",
       "    <tr>\n",
       "      <th>313</th>\n",
       "      <td>Biscoe</td>\n",
       "      <td>49.5</td>\n",
       "      <td>16.1</td>\n",
       "      <td>224.0</td>\n",
       "      <td>5650.0</td>\n",
       "      <td>MALE</td>\n",
       "    </tr>\n",
       "    <tr>\n",
       "      <th>236</th>\n",
       "      <td>Biscoe</td>\n",
       "      <td>42.0</td>\n",
       "      <td>13.5</td>\n",
       "      <td>210.0</td>\n",
       "      <td>4150.0</td>\n",
       "      <td>FEMALE</td>\n",
       "    </tr>\n",
       "    <tr>\n",
       "      <th>284</th>\n",
       "      <td>Biscoe</td>\n",
       "      <td>45.8</td>\n",
       "      <td>14.2</td>\n",
       "      <td>219.0</td>\n",
       "      <td>4700.0</td>\n",
       "      <td>FEMALE</td>\n",
       "    </tr>\n",
       "    <tr>\n",
       "      <th>22</th>\n",
       "      <td>Biscoe</td>\n",
       "      <td>35.9</td>\n",
       "      <td>19.2</td>\n",
       "      <td>189.0</td>\n",
       "      <td>3800.0</td>\n",
       "      <td>FEMALE</td>\n",
       "    </tr>\n",
       "    <tr>\n",
       "      <th>140</th>\n",
       "      <td>Dream</td>\n",
       "      <td>40.2</td>\n",
       "      <td>17.1</td>\n",
       "      <td>193.0</td>\n",
       "      <td>3400.0</td>\n",
       "      <td>FEMALE</td>\n",
       "    </tr>\n",
       "  </tbody>\n",
       "</table>\n",
       "</div>"
      ],
      "text/plain": [
       "     island  bill_length_mm  bill_depth_mm  flipper_length_mm  body_mass_g  \\\n",
       "313  Biscoe            49.5           16.1              224.0       5650.0   \n",
       "236  Biscoe            42.0           13.5              210.0       4150.0   \n",
       "284  Biscoe            45.8           14.2              219.0       4700.0   \n",
       "22   Biscoe            35.9           19.2              189.0       3800.0   \n",
       "140   Dream            40.2           17.1              193.0       3400.0   \n",
       "\n",
       "        sex  \n",
       "313    MALE  \n",
       "236  FEMALE  \n",
       "284  FEMALE  \n",
       "22   FEMALE  \n",
       "140  FEMALE  "
      ]
     },
     "execution_count": 23,
     "metadata": {},
     "output_type": "execute_result"
    }
   ],
   "source": [
    "X_train.head()"
   ]
  },
  {
   "cell_type": "markdown",
   "metadata": {},
   "source": [
    "### Ajuste de hiperparámetros\n",
    "\n",
    "_Grid search_ de hiperparámetros del modelo. Usamos un único corte train-validation."
   ]
  },
  {
   "cell_type": "code",
   "execution_count": 24,
   "metadata": {},
   "outputs": [
    {
     "data": {
      "text/plain": [
       "{'n_jobs': None,\n",
       " 'remainder': 'drop',\n",
       " 'sparse_threshold': 0.3,\n",
       " 'transformer_weights': None,\n",
       " 'transformers': [('cat',\n",
       "   OneHotEncoder(handle_unknown='ignore'),\n",
       "   ['island', 'sex']),\n",
       "  ('num',\n",
       "   'passthrough',\n",
       "   ['bill_length_mm', 'bill_depth_mm', 'flipper_length_mm', 'body_mass_g'])],\n",
       " 'verbose': False,\n",
       " 'verbose_feature_names_out': True,\n",
       " 'cat': OneHotEncoder(handle_unknown='ignore'),\n",
       " 'num': 'passthrough',\n",
       " 'cat__categories': 'auto',\n",
       " 'cat__drop': None,\n",
       " 'cat__dtype': numpy.float64,\n",
       " 'cat__handle_unknown': 'ignore',\n",
       " 'cat__sparse': True}"
      ]
     },
     "execution_count": 24,
     "metadata": {},
     "output_type": "execute_result"
    }
   ],
   "source": [
    "pipe.named_steps.preprocessor.get_params()"
   ]
  },
  {
   "cell_type": "code",
   "execution_count": 25,
   "metadata": {},
   "outputs": [],
   "source": [
    "param_grid = {\n",
    "    \"clf__n_neighbors\": range(1, 15, 2),\n",
    "    \"clf__metric\": [\"manhattan\", \"euclidean\"],\n",
    "    \"clf__weights\": [\"uniform\", \"distance\"]\n",
    "}"
   ]
  },
  {
   "cell_type": "code",
   "execution_count": 26,
   "metadata": {},
   "outputs": [],
   "source": [
    "split_index = [-1 if x in X_train.index else 0 for x in X.index]\n",
    "pds = PredefinedSplit(test_fold=split_index)"
   ]
  },
  {
   "cell_type": "code",
   "execution_count": 27,
   "metadata": {},
   "outputs": [],
   "source": [
    "grid_search = GridSearchCV(pipe, cv=pds, param_grid=param_grid, verbose=10)"
   ]
  },
  {
   "cell_type": "code",
   "execution_count": 28,
   "metadata": {},
   "outputs": [
    {
     "name": "stdout",
     "output_type": "stream",
     "text": [
      "Fitting 1 folds for each of 28 candidates, totalling 28 fits\n",
      "[CV 1/1; 1/28] START clf__metric=manhattan, clf__n_neighbors=1, clf__weights=uniform\n",
      "[CV 1/1; 1/28] END clf__metric=manhattan, clf__n_neighbors=1, clf__weights=uniform;, score=0.988 total time=   0.0s\n",
      "[CV 1/1; 2/28] START clf__metric=manhattan, clf__n_neighbors=1, clf__weights=distance\n",
      "[CV 1/1; 2/28] END clf__metric=manhattan, clf__n_neighbors=1, clf__weights=distance;, score=0.988 total time=   0.0s\n",
      "[CV 1/1; 3/28] START clf__metric=manhattan, clf__n_neighbors=3, clf__weights=uniform\n",
      "[CV 1/1; 3/28] END clf__metric=manhattan, clf__n_neighbors=3, clf__weights=uniform;, score=1.000 total time=   0.0s\n",
      "[CV 1/1; 4/28] START clf__metric=manhattan, clf__n_neighbors=3, clf__weights=distance\n",
      "[CV 1/1; 4/28] END clf__metric=manhattan, clf__n_neighbors=3, clf__weights=distance;, score=1.000 total time=   0.0s\n",
      "[CV 1/1; 5/28] START clf__metric=manhattan, clf__n_neighbors=5, clf__weights=uniform\n",
      "[CV 1/1; 5/28] END clf__metric=manhattan, clf__n_neighbors=5, clf__weights=uniform;, score=1.000 total time=   0.0s\n",
      "[CV 1/1; 6/28] START clf__metric=manhattan, clf__n_neighbors=5, clf__weights=distance\n",
      "[CV 1/1; 6/28] END clf__metric=manhattan, clf__n_neighbors=5, clf__weights=distance;, score=1.000 total time=   0.0s\n",
      "[CV 1/1; 7/28] START clf__metric=manhattan, clf__n_neighbors=7, clf__weights=uniform\n",
      "[CV 1/1; 7/28] END clf__metric=manhattan, clf__n_neighbors=7, clf__weights=uniform;, score=1.000 total time=   0.0s\n",
      "[CV 1/1; 8/28] START clf__metric=manhattan, clf__n_neighbors=7, clf__weights=distance\n",
      "[CV 1/1; 8/28] END clf__metric=manhattan, clf__n_neighbors=7, clf__weights=distance;, score=1.000 total time=   0.0s\n",
      "[CV 1/1; 9/28] START clf__metric=manhattan, clf__n_neighbors=9, clf__weights=uniform\n",
      "[CV 1/1; 9/28] END clf__metric=manhattan, clf__n_neighbors=9, clf__weights=uniform;, score=1.000 total time=   0.0s\n",
      "[CV 1/1; 10/28] START clf__metric=manhattan, clf__n_neighbors=9, clf__weights=distance\n",
      "[CV 1/1; 10/28] END clf__metric=manhattan, clf__n_neighbors=9, clf__weights=distance;, score=1.000 total time=   0.0s\n",
      "[CV 1/1; 11/28] START clf__metric=manhattan, clf__n_neighbors=11, clf__weights=uniform\n",
      "[CV 1/1; 11/28] END clf__metric=manhattan, clf__n_neighbors=11, clf__weights=uniform;, score=1.000 total time=   0.0s\n",
      "[CV 1/1; 12/28] START clf__metric=manhattan, clf__n_neighbors=11, clf__weights=distance\n",
      "[CV 1/1; 12/28] END clf__metric=manhattan, clf__n_neighbors=11, clf__weights=distance;, score=1.000 total time=   0.0s\n",
      "[CV 1/1; 13/28] START clf__metric=manhattan, clf__n_neighbors=13, clf__weights=uniform\n",
      "[CV 1/1; 13/28] END clf__metric=manhattan, clf__n_neighbors=13, clf__weights=uniform;, score=1.000 total time=   0.0s\n",
      "[CV 1/1; 14/28] START clf__metric=manhattan, clf__n_neighbors=13, clf__weights=distance\n",
      "[CV 1/1; 14/28] END clf__metric=manhattan, clf__n_neighbors=13, clf__weights=distance;, score=1.000 total time=   0.0s\n",
      "[CV 1/1; 15/28] START clf__metric=euclidean, clf__n_neighbors=1, clf__weights=uniform\n",
      "[CV 1/1; 15/28] END clf__metric=euclidean, clf__n_neighbors=1, clf__weights=uniform;, score=0.988 total time=   0.0s\n",
      "[CV 1/1; 16/28] START clf__metric=euclidean, clf__n_neighbors=1, clf__weights=distance\n",
      "[CV 1/1; 16/28] END clf__metric=euclidean, clf__n_neighbors=1, clf__weights=distance;, score=0.988 total time=   0.0s\n",
      "[CV 1/1; 17/28] START clf__metric=euclidean, clf__n_neighbors=3, clf__weights=uniform\n",
      "[CV 1/1; 17/28] END clf__metric=euclidean, clf__n_neighbors=3, clf__weights=uniform;, score=0.988 total time=   0.0s\n",
      "[CV 1/1; 18/28] START clf__metric=euclidean, clf__n_neighbors=3, clf__weights=distance\n",
      "[CV 1/1; 18/28] END clf__metric=euclidean, clf__n_neighbors=3, clf__weights=distance;, score=0.988 total time=   0.0s\n",
      "[CV 1/1; 19/28] START clf__metric=euclidean, clf__n_neighbors=5, clf__weights=uniform\n",
      "[CV 1/1; 19/28] END clf__metric=euclidean, clf__n_neighbors=5, clf__weights=uniform;, score=1.000 total time=   0.0s\n",
      "[CV 1/1; 20/28] START clf__metric=euclidean, clf__n_neighbors=5, clf__weights=distance\n",
      "[CV 1/1; 20/28] END clf__metric=euclidean, clf__n_neighbors=5, clf__weights=distance;, score=1.000 total time=   0.0s\n",
      "[CV 1/1; 21/28] START clf__metric=euclidean, clf__n_neighbors=7, clf__weights=uniform\n",
      "[CV 1/1; 21/28] END clf__metric=euclidean, clf__n_neighbors=7, clf__weights=uniform;, score=1.000 total time=   0.0s\n",
      "[CV 1/1; 22/28] START clf__metric=euclidean, clf__n_neighbors=7, clf__weights=distance\n",
      "[CV 1/1; 22/28] END clf__metric=euclidean, clf__n_neighbors=7, clf__weights=distance;, score=1.000 total time=   0.0s\n",
      "[CV 1/1; 23/28] START clf__metric=euclidean, clf__n_neighbors=9, clf__weights=uniform\n",
      "[CV 1/1; 23/28] END clf__metric=euclidean, clf__n_neighbors=9, clf__weights=uniform;, score=1.000 total time=   0.0s\n",
      "[CV 1/1; 24/28] START clf__metric=euclidean, clf__n_neighbors=9, clf__weights=distance\n",
      "[CV 1/1; 24/28] END clf__metric=euclidean, clf__n_neighbors=9, clf__weights=distance;, score=1.000 total time=   0.0s\n",
      "[CV 1/1; 25/28] START clf__metric=euclidean, clf__n_neighbors=11, clf__weights=uniform\n",
      "[CV 1/1; 25/28] END clf__metric=euclidean, clf__n_neighbors=11, clf__weights=uniform;, score=1.000 total time=   0.0s\n",
      "[CV 1/1; 26/28] START clf__metric=euclidean, clf__n_neighbors=11, clf__weights=distance\n",
      "[CV 1/1; 26/28] END clf__metric=euclidean, clf__n_neighbors=11, clf__weights=distance;, score=1.000 total time=   0.0s\n",
      "[CV 1/1; 27/28] START clf__metric=euclidean, clf__n_neighbors=13, clf__weights=uniform\n",
      "[CV 1/1; 27/28] END clf__metric=euclidean, clf__n_neighbors=13, clf__weights=uniform;, score=1.000 total time=   0.0s\n",
      "[CV 1/1; 28/28] START clf__metric=euclidean, clf__n_neighbors=13, clf__weights=distance\n",
      "[CV 1/1; 28/28] END clf__metric=euclidean, clf__n_neighbors=13, clf__weights=distance;, score=1.000 total time=   0.0s\n"
     ]
    }
   ],
   "source": [
    "_ = grid_search.fit(X, y)"
   ]
  },
  {
   "cell_type": "code",
   "execution_count": 29,
   "metadata": {},
   "outputs": [],
   "source": [
    "# por que hay 28 lineas?"
   ]
  },
  {
   "cell_type": "code",
   "execution_count": 30,
   "metadata": {},
   "outputs": [
    {
     "name": "stdout",
     "output_type": "stream",
     "text": [
      "{'clf__metric': 'manhattan', 'clf__n_neighbors': 3, 'clf__weights': 'uniform'}\n",
      "1.0\n"
     ]
    }
   ],
   "source": [
    "print(grid_search.best_params_)\n",
    "print(grid_search.best_score_)"
   ]
  },
  {
   "cell_type": "code",
   "execution_count": 31,
   "metadata": {},
   "outputs": [
    {
     "data": {
      "text/html": [
       "<div>\n",
       "<style scoped>\n",
       "    .dataframe tbody tr th:only-of-type {\n",
       "        vertical-align: middle;\n",
       "    }\n",
       "\n",
       "    .dataframe tbody tr th {\n",
       "        vertical-align: top;\n",
       "    }\n",
       "\n",
       "    .dataframe thead th {\n",
       "        text-align: right;\n",
       "    }\n",
       "</style>\n",
       "<table border=\"1\" class=\"dataframe\">\n",
       "  <thead>\n",
       "    <tr style=\"text-align: right;\">\n",
       "      <th></th>\n",
       "      <th>mean_fit_time</th>\n",
       "      <th>std_fit_time</th>\n",
       "      <th>mean_score_time</th>\n",
       "      <th>std_score_time</th>\n",
       "      <th>param_clf__metric</th>\n",
       "      <th>param_clf__n_neighbors</th>\n",
       "      <th>param_clf__weights</th>\n",
       "      <th>params</th>\n",
       "      <th>split0_test_score</th>\n",
       "      <th>mean_test_score</th>\n",
       "      <th>std_test_score</th>\n",
       "      <th>rank_test_score</th>\n",
       "    </tr>\n",
       "  </thead>\n",
       "  <tbody>\n",
       "    <tr>\n",
       "      <th>27</th>\n",
       "      <td>0.004987</td>\n",
       "      <td>0.0</td>\n",
       "      <td>0.003989</td>\n",
       "      <td>0.0</td>\n",
       "      <td>euclidean</td>\n",
       "      <td>13</td>\n",
       "      <td>distance</td>\n",
       "      <td>{'clf__metric': 'euclidean', 'clf__n_neighbors...</td>\n",
       "      <td>1.0</td>\n",
       "      <td>1.0</td>\n",
       "      <td>0.0</td>\n",
       "      <td>1</td>\n",
       "    </tr>\n",
       "    <tr>\n",
       "      <th>22</th>\n",
       "      <td>0.005017</td>\n",
       "      <td>0.0</td>\n",
       "      <td>0.004988</td>\n",
       "      <td>0.0</td>\n",
       "      <td>euclidean</td>\n",
       "      <td>9</td>\n",
       "      <td>uniform</td>\n",
       "      <td>{'clf__metric': 'euclidean', 'clf__n_neighbors...</td>\n",
       "      <td>1.0</td>\n",
       "      <td>1.0</td>\n",
       "      <td>0.0</td>\n",
       "      <td>1</td>\n",
       "    </tr>\n",
       "    <tr>\n",
       "      <th>20</th>\n",
       "      <td>0.004986</td>\n",
       "      <td>0.0</td>\n",
       "      <td>0.005020</td>\n",
       "      <td>0.0</td>\n",
       "      <td>euclidean</td>\n",
       "      <td>7</td>\n",
       "      <td>uniform</td>\n",
       "      <td>{'clf__metric': 'euclidean', 'clf__n_neighbors...</td>\n",
       "      <td>1.0</td>\n",
       "      <td>1.0</td>\n",
       "      <td>0.0</td>\n",
       "      <td>1</td>\n",
       "    </tr>\n",
       "    <tr>\n",
       "      <th>19</th>\n",
       "      <td>0.003991</td>\n",
       "      <td>0.0</td>\n",
       "      <td>0.003988</td>\n",
       "      <td>0.0</td>\n",
       "      <td>euclidean</td>\n",
       "      <td>5</td>\n",
       "      <td>distance</td>\n",
       "      <td>{'clf__metric': 'euclidean', 'clf__n_neighbors...</td>\n",
       "      <td>1.0</td>\n",
       "      <td>1.0</td>\n",
       "      <td>0.0</td>\n",
       "      <td>1</td>\n",
       "    </tr>\n",
       "    <tr>\n",
       "      <th>18</th>\n",
       "      <td>0.004986</td>\n",
       "      <td>0.0</td>\n",
       "      <td>0.004986</td>\n",
       "      <td>0.0</td>\n",
       "      <td>euclidean</td>\n",
       "      <td>5</td>\n",
       "      <td>uniform</td>\n",
       "      <td>{'clf__metric': 'euclidean', 'clf__n_neighbors...</td>\n",
       "      <td>1.0</td>\n",
       "      <td>1.0</td>\n",
       "      <td>0.0</td>\n",
       "      <td>1</td>\n",
       "    </tr>\n",
       "  </tbody>\n",
       "</table>\n",
       "</div>"
      ],
      "text/plain": [
       "    mean_fit_time  std_fit_time  mean_score_time  std_score_time  \\\n",
       "27       0.004987           0.0         0.003989             0.0   \n",
       "22       0.005017           0.0         0.004988             0.0   \n",
       "20       0.004986           0.0         0.005020             0.0   \n",
       "19       0.003991           0.0         0.003988             0.0   \n",
       "18       0.004986           0.0         0.004986             0.0   \n",
       "\n",
       "   param_clf__metric param_clf__n_neighbors param_clf__weights  \\\n",
       "27         euclidean                     13           distance   \n",
       "22         euclidean                      9            uniform   \n",
       "20         euclidean                      7            uniform   \n",
       "19         euclidean                      5           distance   \n",
       "18         euclidean                      5            uniform   \n",
       "\n",
       "                                               params  split0_test_score  \\\n",
       "27  {'clf__metric': 'euclidean', 'clf__n_neighbors...                1.0   \n",
       "22  {'clf__metric': 'euclidean', 'clf__n_neighbors...                1.0   \n",
       "20  {'clf__metric': 'euclidean', 'clf__n_neighbors...                1.0   \n",
       "19  {'clf__metric': 'euclidean', 'clf__n_neighbors...                1.0   \n",
       "18  {'clf__metric': 'euclidean', 'clf__n_neighbors...                1.0   \n",
       "\n",
       "    mean_test_score  std_test_score  rank_test_score  \n",
       "27              1.0             0.0                1  \n",
       "22              1.0             0.0                1  \n",
       "20              1.0             0.0                1  \n",
       "19              1.0             0.0                1  \n",
       "18              1.0             0.0                1  "
      ]
     },
     "execution_count": 31,
     "metadata": {},
     "output_type": "execute_result"
    }
   ],
   "source": [
    "cv_results = pd.DataFrame(grid_search.cv_results_)\n",
    "cv_results = cv_results.sort_values(\"mean_test_score\", ascending=False)\n",
    "cv_results.head(5)"
   ]
  },
  {
   "cell_type": "code",
   "execution_count": 32,
   "metadata": {},
   "outputs": [
    {
     "data": {
      "image/png": "[encoded data removed]",
      "text/plain": [
       "<Figure size 432x288 with 1 Axes>"
      ]
     },
     "metadata": {
      "needs_background": "light"
     },
     "output_type": "display_data"
    }
   ],
   "source": [
    "sns.stripplot(\n",
    "    x=\"param_clf__n_neighbors\", y=\"mean_test_score\", hue=\"param_clf__metric\", \n",
    "    data=cv_results)\n",
    "    # strip agrega jitter\n",
    "plt.show()"
   ]
  },
  {
   "cell_type": "markdown",
   "metadata": {},
   "source": [
    "----------------------------------\n",
    "\n",
    "## Bonus\n",
    "\n",
    ">_Caching_ para reducir el tiempo de cómputo\n",
    ">\n",
    ">Ver: https://scikit-learn.org/stable/auto_examples/neighbors/plot_caching_nearest_neighbors.html"
   ]
  }
 ],
 "metadata": {
  "interpreter": {
   "hash": "70aae090dcf60b41e7cc1692a84d4f6e0a269d03152970a28664643b73443561"
  },
  "kernelspec": {
   "display_name": "Python 3.7.6 ('base')",
   "language": "python",
   "name": "python3"
  },
  "language_info": {
   "codemirror_mode": {
    "name": "ipython",
    "version": 3
   },
   "file_extension": ".py",
   "mimetype": "text/x-python",
   "name": "python",
   "nbconvert_exporter": "python",
   "pygments_lexer": "ipython3",
   "version": "3.7.6"
  }
 },
 "nbformat": 4,
 "nbformat_minor": 2
}
